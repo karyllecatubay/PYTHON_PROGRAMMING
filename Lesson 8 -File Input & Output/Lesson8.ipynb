{
 "cells": [
  {
   "cell_type": "markdown",
   "id": "d17f15dc-2330-469d-9768-9c3dce6d7538",
   "metadata": {},
   "source": [
    "# Lesson 8 - File Input & Output"
   ]
  },
  {
   "cell_type": "markdown",
   "id": "a242fabc-07eb-4537-b08b-854141fab771",
   "metadata": {},
   "source": [
    "## Review Exercise 1"
   ]
  },
  {
   "cell_type": "code",
   "execution_count": 8,
   "id": "aeda2e6c-4e34-42fe-9181-7785de080468",
   "metadata": {},
   "outputs": [
    {
     "name": "stdout",
     "output_type": "stream",
     "text": [
      "/Users/karyllesmacbookpro/my_folder/my_file.txt\n"
     ]
    }
   ],
   "source": [
    "#1 \n",
    "\n",
    "from pathlib import Path\n",
    "\n",
    "file_path = Path.home() / \"my_folder\" / \"my_file.txt\"\n",
    "print(file_path)\n"
   ]
  },
  {
   "cell_type": "code",
   "execution_count": 9,
   "id": "fb3f3c87-b77f-4799-945a-bd5abeed4b18",
   "metadata": {},
   "outputs": [
    {
     "data": {
      "text/plain": [
       "True"
      ]
     },
     "execution_count": 9,
     "metadata": {},
     "output_type": "execute_result"
    }
   ],
   "source": [
    "#2\n",
    "file_path.exists()"
   ]
  },
  {
   "cell_type": "code",
   "execution_count": 10,
   "id": "6180eeb9-cb68-4ee9-b0ca-a52db9eb49a7",
   "metadata": {},
   "outputs": [
    {
     "data": {
      "text/plain": [
       "'my_file.txt'"
      ]
     },
     "execution_count": 10,
     "metadata": {},
     "output_type": "execute_result"
    }
   ],
   "source": [
    "#3\n",
    "file_path.name"
   ]
  },
  {
   "cell_type": "code",
   "execution_count": 11,
   "id": "31c452ec-98e4-4d80-af81-63b2b28bb68a",
   "metadata": {},
   "outputs": [
    {
     "data": {
      "text/plain": [
       "'my_folder'"
      ]
     },
     "execution_count": 11,
     "metadata": {},
     "output_type": "execute_result"
    }
   ],
   "source": [
    "#4\n",
    "file_path.parent.name"
   ]
  },
  {
   "cell_type": "markdown",
   "id": "dc0038ec-0f61-4f78-b6dc-1812694fc77d",
   "metadata": {},
   "source": [
    "## Review Exercise 2"
   ]
  },
  {
   "cell_type": "code",
   "execution_count": 12,
   "id": "4fbbcbaa-fd1a-464e-b571-d1bae05d911a",
   "metadata": {},
   "outputs": [
    {
     "name": "stdout",
     "output_type": "stream",
     "text": [
      "Created: /Users/karyllesmacbookpro/my_folder\n"
     ]
    }
   ],
   "source": [
    "#1\n",
    "from pathlib import Path\n",
    "import shutil\n",
    "\n",
    "home = Path.home()\n",
    "my_folder = home / \"my_folder\"\n",
    "my_folder.mkdir(exist_ok=True)\n",
    "print(\"Created:\", my_folder)"
   ]
  },
  {
   "cell_type": "code",
   "execution_count": 14,
   "id": "e4e1d49f-5285-4db1-a9bc-99fff0690c75",
   "metadata": {},
   "outputs": [
    {
     "name": "stdout",
     "output_type": "stream",
     "text": [
      "Created files: file1.txt file2.txt image1.png\n"
     ]
    }
   ],
   "source": [
    "#2 \n",
    "file1 = my_folder / \"file1.txt\"\n",
    "file2 = my_folder / \"file2.txt\"\n",
    "image1 = my_folder / \"image1.png\"\n",
    "\n",
    "for f in [file1, file2, image1]:\n",
    "    f.touch(exist_ok=True)\n",
    "print(\"Created files:\", file1.name, file2.name, image1.name)"
   ]
  },
  {
   "cell_type": "code",
   "execution_count": 15,
   "id": "a50af8a9-335e-4742-ba98-12603738eee5",
   "metadata": {},
   "outputs": [
    {
     "name": "stdout",
     "output_type": "stream",
     "text": [
      "Moved image1.png to /Users/karyllesmacbookpro/my_folder/images\n"
     ]
    }
   ],
   "source": [
    "#3\n",
    "images_folder = my_folder / \"images\"\n",
    "images_folder.mkdir(exist_ok=True)\n",
    "shutil.move(str(image1), str(images_folder / image1.name))\n",
    "print(\"Moved\", image1.name, \"to\", images_folder)"
   ]
  },
  {
   "cell_type": "code",
   "execution_count": 16,
   "id": "c25aff2b-56cd-4b05-bb21-41d7e86f2cf7",
   "metadata": {},
   "outputs": [
    {
     "name": "stdout",
     "output_type": "stream",
     "text": [
      "Deleted: file1.txt\n"
     ]
    }
   ],
   "source": [
    "#4\n",
    "if file1.exists():\n",
    "    file1.unlink()\n",
    "    print(\"Deleted:\", file1.name)"
   ]
  },
  {
   "cell_type": "code",
   "execution_count": 17,
   "id": "e7143955-1056-4db8-97f7-af00e49372b8",
   "metadata": {},
   "outputs": [
    {
     "name": "stdout",
     "output_type": "stream",
     "text": [
      "Deleted folder: /Users/karyllesmacbookpro/my_folder\n"
     ]
    }
   ],
   "source": [
    "#5\n",
    "shutil.rmtree(my_folder)\n",
    "print(\"Deleted folder:\", my_folder)"
   ]
  },
  {
   "cell_type": "markdown",
   "id": "bfe20680-a3e1-406a-b6c5-708dcce0ee02",
   "metadata": {},
   "source": [
    "## CHALLENGE: MOVE ALL FILES TO A NEW DIRECTORY"
   ]
  },
  {
   "cell_type": "code",
   "execution_count": 28,
   "id": "216ae67e-17cf-4838-bad3-c3607c9efc19",
   "metadata": {},
   "outputs": [
    {
     "name": "stdout",
     "output_type": "stream",
     "text": [
      "/Users/karyllesmacbookpro/practice_files\n"
     ]
    }
   ],
   "source": [
    "#1 \n",
    "from pathlib import Path\n",
    "import shutil\n",
    "\n",
    "home = Path.home()\n",
    "practice_files = home / \"practice_files\"\n",
    "print(practice_files)"
   ]
  },
  {
   "cell_type": "code",
   "execution_count": 27,
   "id": "4f08f23a-2060-4efe-aa8d-813dbcbf17a5",
   "metadata": {},
   "outputs": [],
   "source": [
    "#2\n",
    "images_folder = practice_files / \"images\"\n",
    "images_folder.mkdir(exist_ok=True)"
   ]
  },
  {
   "cell_type": "code",
   "execution_count": 29,
   "id": "e2c46b36-2ed8-4f6e-bd37-7bce47a2784a",
   "metadata": {},
   "outputs": [],
   "source": [
    "#3\n",
    "for file in practice_files.iterdir():\n",
    "    if file.suffix.lower() in [\".png\", \".gif\", \".jpg\"]:\n",
    "        shutil.move(str(file), str(images_folder / file.name))\n",
    "        print(f\"Moved: {file.name}\")"
   ]
  },
  {
   "cell_type": "code",
   "execution_count": 32,
   "id": "3023e8f9-1542-48ee-b2e5-6ad9210a0e72",
   "metadata": {},
   "outputs": [
    {
     "name": "stdout",
     "output_type": "stream",
     "text": [
      "Files now in 'images/':\n",
      "image1.png\n",
      "image2.gif\n",
      "image3.png\n",
      "image4.jpg\n"
     ]
    }
   ],
   "source": [
    "#4\n",
    "print(\"Files now in 'images/':\")\n",
    "for file in sorted(images_folder.iterdir()):\n",
    "    print(file.name)"
   ]
  },
  {
   "cell_type": "markdown",
   "id": "4df07682-eec2-426f-a7ec-c5e6ed9ed943",
   "metadata": {},
   "source": [
    "## Review Exercise 3"
   ]
  },
  {
   "cell_type": "code",
   "execution_count": 36,
   "id": "49c8d618-8c6c-4fb0-a6d7-4deaa01a72da",
   "metadata": {},
   "outputs": [
    {
     "name": "stdout",
     "output_type": "stream",
     "text": [
      "Created file: /Users/karyllesmacbookpro/starships.txt\n"
     ]
    }
   ],
   "source": [
    "#1\n",
    "from pathlib import Path\n",
    "\n",
    "home = Path.home()\n",
    "starships_file = home / \"starships.txt\"\n",
    "\n",
    "starship_names = [\"DISCOVERY\", \"ENTERPRISE\", \"DEFIANT\", \"VOYAGER\"]\n",
    "starships_file.write_text(\"\\n\".join(starship_names))\n",
    "print(\"Created file:\", starships_file)"
   ]
  },
  {
   "cell_type": "code",
   "execution_count": 37,
   "id": "e856c814-07c9-488f-b5b6-98240532313c",
   "metadata": {},
   "outputs": [
    {
     "name": "stdout",
     "output_type": "stream",
     "text": [
      "All Starships:\n",
      "DISCOVERY\n",
      "ENTERPRISE\n",
      "DEFIANT\n",
      "VOYAGER\n"
     ]
    }
   ],
   "source": [
    "#2\n",
    "print(\"All Starships:\")\n",
    "with starships_file.open(\"r\") as f:\n",
    "    for line in f:\n",
    "        print(line.strip())"
   ]
  },
  {
   "cell_type": "code",
   "execution_count": 38,
   "id": "a9e5ffca-5282-4fdf-a73f-1476360ee0e4",
   "metadata": {},
   "outputs": [
    {
     "name": "stdout",
     "output_type": "stream",
     "text": [
      "Starships starting with 'D':\n",
      "DISCOVERY\n",
      "DEFIANT\n"
     ]
    }
   ],
   "source": [
    "#3\n",
    "print(\"Starships starting with 'D':\")\n",
    "with starships_file.open(\"r\") as f:\n",
    "    for line in f:\n",
    "        name = line.strip()\n",
    "        if name.startswith(\"D\"):\n",
    "            print(name)"
   ]
  },
  {
   "cell_type": "markdown",
   "id": "5743469b-bcca-4f17-9769-2263a4d2f308",
   "metadata": {},
   "source": [
    "## Review Question 4"
   ]
  },
  {
   "cell_type": "code",
   "execution_count": 47,
   "id": "2d3732d2-5980-43a5-8205-bce5cf66d90c",
   "metadata": {},
   "outputs": [
    {
     "name": "stdout",
     "output_type": "stream",
     "text": [
      "numbers.csv created at: /Users/karyllesmacbookpro/numbers.csv and filled with [[1, 2, 3, 4, 5], [6, 7, 8, 9, 10], [11, 12, 13, 14, 15]]\n"
     ]
    }
   ],
   "source": [
    "#1\n",
    "import csv\n",
    "from pathlib import Path\n",
    "\n",
    "home = Path.home()\n",
    "numbers_file = home / \"numbers.csv\"\n",
    "\n",
    "numbers = [\n",
    "    [1, 2, 3, 4, 5],\n",
    "    [6, 7, 8, 9, 10],\n",
    "    [11, 12, 13, 14, 15]\n",
    "]\n",
    "\n",
    "with numbers_file.open(\"w\", newline=\"\") as f:\n",
    "    writer = csv.writer(f)\n",
    "    writer.writerows(numbers)\n",
    "\n",
    "print(f\"numbers.csv created at: {numbers_file} and filled with {numbers}\")"
   ]
  },
  {
   "cell_type": "code",
   "execution_count": 50,
   "id": "8cb2d601-6685-405f-9fb5-ff32c323576d",
   "metadata": {},
   "outputs": [
    {
     "name": "stdout",
     "output_type": "stream",
     "text": [
      "List of lists read from CSV:\n",
      "[[1, 2, 3, 4, 5], [6, 7, 8, 9, 10], [11, 12, 13, 14, 15]]\n"
     ]
    }
   ],
   "source": [
    "#2\n",
    "import csv\n",
    "from pathlib import Path\n",
    "\n",
    "# Step 1: Define the same file path\n",
    "home = Path.home()\n",
    "numbers_file = home / \"numbers.csv\"\n",
    "\n",
    "# Step 2: Read from the CSV file\n",
    "numbers = []\n",
    "with numbers_file.open(\"r\") as f:\n",
    "    reader = csv.reader(f)\n",
    "    for row in reader:\n",
    "        numbers.append([int(x) for x in row])  # convert to integers\n",
    "\n",
    "print(\"List of lists read from CSV:\")\n",
    "print(numbers)\n"
   ]
  },
  {
   "cell_type": "code",
   "execution_count": 59,
   "id": "4370c7de-3b74-4f91-ac3b-8091d44aae6e",
   "metadata": {},
   "outputs": [
    {
     "name": "stdout",
     "output_type": "stream",
     "text": [
      "favorite_colors.csv created at: /Users/karyllesmacbookpro/favorite_colors.csv\n"
     ]
    }
   ],
   "source": [
    "#3\n",
    "import csv\n",
    "from pathlib import Path\n",
    "\n",
    "home = Path.home()\n",
    "colors_file = home / \"favorite_colors.csv\"\n",
    "\n",
    "favorite_colors = [\n",
    "    {\"name\": \"Joe\", \"favorite_color\": \"blue\"},\n",
    "    {\"name\": \"Anne\", \"favorite_color\": \"green\"},\n",
    "    {\"name\": \"Bailey\", \"favorite_color\": \"red\"},\n",
    "]\n",
    "\n",
    "with colors_file.open(\"w\", newline=\"\") as f:\n",
    "    writer = csv.DictWriter(f, fieldnames=[\"name\", \"favorite_color\"])\n",
    "    writer.writeheader()\n",
    "    writer.writerows(favorite_colors)\n",
    "\n",
    "print(f\"favorite_colors.csv created at: {colors_file}\")"
   ]
  },
  {
   "cell_type": "code",
   "execution_count": 61,
   "id": "5ee4086c-2bc9-43e6-b29a-8080cc45250f",
   "metadata": {},
   "outputs": [
    {
     "name": "stdout",
     "output_type": "stream",
     "text": [
      "[{'name': 'Joe', 'favorite_color': 'blue'}, {'name': 'Anne', 'favorite_color': 'green'}, {'name': 'Bailey', 'favorite_color': 'red'}]\n"
     ]
    }
   ],
   "source": [
    "#4\n",
    "import csv\n",
    "from pathlib import Path\n",
    "\n",
    "home = Path.home()\n",
    "colors_file = home / \"favorite_colors.csv\"\n",
    "\n",
    "favorite_colors = []\n",
    "\n",
    "with colors_file.open(\"r\") as f:\n",
    "    reader = csv.DictReader(f)\n",
    "    for row in reader:\n",
    "        favorite_colors.append({\"name\": row[\"name\"], \"favorite_color\": row[\"favorite_color\"]})\n",
    "\n",
    "print(favorite_colors)"
   ]
  }
 ],
 "metadata": {
  "kernelspec": {
   "display_name": "Python [conda env:base] *",
   "language": "python",
   "name": "conda-base-py"
  },
  "language_info": {
   "codemirror_mode": {
    "name": "ipython",
    "version": 3
   },
   "file_extension": ".py",
   "mimetype": "text/x-python",
   "name": "python",
   "nbconvert_exporter": "python",
   "pygments_lexer": "ipython3",
   "version": "3.13.5"
  }
 },
 "nbformat": 4,
 "nbformat_minor": 5
}
