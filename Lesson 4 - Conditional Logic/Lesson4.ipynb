{
 "cells": [
  {
   "cell_type": "markdown",
   "id": "cee51a10-b825-4499-91f8-a1dfd22272ac",
   "metadata": {},
   "source": [
    "# CONDITIONAL LOGIC #"
   ]
  },
  {
   "cell_type": "markdown",
   "id": "4beb9594-d71f-4261-86b0-7b276a72ad5e",
   "metadata": {},
   "source": [
    "## Review Question 1"
   ]
  },
  {
   "cell_type": "code",
   "execution_count": 8,
   "id": "9df93613-5c93-4a97-b592-12f14792a588",
   "metadata": {},
   "outputs": [
    {
     "data": {
      "text/plain": [
       "False"
      ]
     },
     "execution_count": 8,
     "metadata": {},
     "output_type": "execute_result"
    }
   ],
   "source": [
    "1 <= 1\n",
    "1 != 1\n",
    "1 != 2\n",
    "\"good\" != \"bad\"\n",
    "\"good\" != \"Good\"\n",
    "123 == \"123\""
   ]
  },
  {
   "cell_type": "code",
   "execution_count": 10,
   "id": "d9e4416e-3a87-442d-93f2-89674354e42f",
   "metadata": {},
   "outputs": [
    {
     "data": {
      "text/plain": [
       "True"
      ]
     },
     "execution_count": 10,
     "metadata": {},
     "output_type": "execute_result"
    }
   ],
   "source": [
    "3 <= 4\n",
    "10 >= 5\n",
    "\"jack\" != \"jill\"\n",
    "42 != \"42\""
   ]
  },
  {
   "cell_type": "markdown",
   "id": "f53efd24-4f95-4048-bfdb-d042cf86ee71",
   "metadata": {},
   "source": [
    "## Review Question 2"
   ]
  },
  {
   "cell_type": "code",
   "execution_count": 17,
   "id": "2a6a09d9-f11f-43ad-9efd-d98fc6f12bad",
   "metadata": {},
   "outputs": [
    {
     "data": {
      "text/plain": [
       "False"
      ]
     },
     "execution_count": 17,
     "metadata": {},
     "output_type": "execute_result"
    }
   ],
   "source": [
    "(1 <= 1) and (1 != 1)\n",
    "not (1 != 2)\n",
    "(\"good\" != \"bad\") or False\n",
    "(\"good\") != \"Good\" and not (1 == 1)"
   ]
  },
  {
   "cell_type": "code",
   "execution_count": 20,
   "id": "e905669b-8597-4266-8bdd-071d6aa74386",
   "metadata": {},
   "outputs": [
    {
     "data": {
      "text/plain": [
       "False"
      ]
     },
     "execution_count": 20,
     "metadata": {},
     "output_type": "execute_result"
    }
   ],
   "source": [
    "False == (not True)"
   ]
  },
  {
   "cell_type": "code",
   "execution_count": 21,
   "id": "39a5767b-06dc-47d3-8dcc-83fe751ca33d",
   "metadata": {},
   "outputs": [
    {
     "data": {
      "text/plain": [
       "True"
      ]
     },
     "execution_count": 21,
     "metadata": {},
     "output_type": "execute_result"
    }
   ],
   "source": [
    "(True and False) == (True and False)"
   ]
  },
  {
   "cell_type": "code",
   "execution_count": 28,
   "id": "e99f4f06-86f8-45e0-91be-90cdad285566",
   "metadata": {},
   "outputs": [
    {
     "data": {
      "text/plain": [
       "True"
      ]
     },
     "execution_count": 28,
     "metadata": {},
     "output_type": "execute_result"
    }
   ],
   "source": [
    "not (True and (\"A\" == \"B\"))"
   ]
  },
  {
   "cell_type": "markdown",
   "id": "a92ef4e8-94e2-4176-9ea9-2ad97df69c55",
   "metadata": {},
   "source": [
    "## Review Exercise 3"
   ]
  },
  {
   "cell_type": "code",
   "execution_count": 1,
   "id": "79888861-b4d2-4377-951e-0b3c01dcb717",
   "metadata": {},
   "outputs": [
    {
     "name": "stdin",
     "output_type": "stream",
     "text": [
      "Enter a word:  hello world\n"
     ]
    },
    {
     "name": "stdout",
     "output_type": "stream",
     "text": [
      "The word has more than 5 characters.\n"
     ]
    }
   ],
   "source": [
    "word = input(\"Enter a word: \")\n",
    "\n",
    "length = len(word)\n",
    "\n",
    "if length < 5:\n",
    "    print(\"The word has less than 5 characters.\")\n",
    "elif length == 5:\n",
    "    print(\"The word has exactly 5 characters.\")\n",
    "else:\n",
    "    print(\"The word has more than 5 characters.\")"
   ]
  },
  {
   "cell_type": "markdown",
   "id": "e37dfd2d-2b46-4361-bd06-27cd8f4e85b5",
   "metadata": {},
   "source": [
    "## Review Exercises 4"
   ]
  },
  {
   "cell_type": "code",
   "execution_count": 2,
   "id": "70b1f829-4021-46fe-a5d2-30b0f55c3e67",
   "metadata": {},
   "outputs": [
    {
     "name": "stdin",
     "output_type": "stream",
     "text": [
      "Enter something (Q to quit):  wow\n"
     ]
    },
    {
     "name": "stdout",
     "output_type": "stream",
     "text": [
      "You entered: wow\n"
     ]
    },
    {
     "name": "stdin",
     "output_type": "stream",
     "text": [
      "Enter something (Q to quit):  Q\n"
     ]
    },
    {
     "name": "stdout",
     "output_type": "stream",
     "text": [
      "Quitting the program.\n"
     ]
    }
   ],
   "source": [
    "while True:\n",
    "    user_input = input(\"Enter something (Q to quit): \")\n",
    "    if user_input == \"Q\" or user_input == \"q\":\n",
    "        print(\"Quitting the program.\")\n",
    "        break\n",
    "    else:\n",
    "        print(f\"You entered: {user_input}\")"
   ]
  },
  {
   "cell_type": "markdown",
   "id": "1da140c7-5f45-41b7-930f-1ac866ef4208",
   "metadata": {},
   "source": [
    "## Review Exercises 5"
   ]
  },
  {
   "cell_type": "code",
   "execution_count": 3,
   "id": "05a4710c-404a-4215-a2c9-42ddb581ef26",
   "metadata": {},
   "outputs": [
    {
     "name": "stdin",
     "output_type": "stream",
     "text": [
      "Please enter an integer:  54\n"
     ]
    },
    {
     "name": "stdout",
     "output_type": "stream",
     "text": [
      "You entered the integer: 54\n"
     ]
    }
   ],
   "source": [
    "while True:\n",
    "    try:\n",
    "        user_input = input(\"Please enter an integer: \")\n",
    "        num = int(user_input)\n",
    "        print(f\"You entered the integer: {num}\")\n",
    "        break\n",
    "    except ValueError:\n",
    "        print(\"Try again. That was not an integer.\")"
   ]
  },
  {
   "cell_type": "code",
   "execution_count": 4,
   "id": "221b2c10-d034-466e-a165-fdde7e6889b5",
   "metadata": {},
   "outputs": [
    {
     "name": "stdin",
     "output_type": "stream",
     "text": [
      "Enter a string:  hello world\n",
      "Enter an integer index N:  5\n"
     ]
    },
    {
     "name": "stdout",
     "output_type": "stream",
     "text": [
      "The character at index 5 is ' '.\n"
     ]
    }
   ],
   "source": [
    "string_input = input(\"Enter a string: \")\n",
    "\n",
    "while True:\n",
    "    try:\n",
    "        n = int(input(\"Enter an integer index N: \"))\n",
    "        char = string_input[n]\n",
    "        print(f\"The character at index {n} is '{char}'.\")\n",
    "        break\n",
    "    except ValueError:\n",
    "        print(\"Try again. Please enter a valid integer for the index.\")\n",
    "    except IndexError:\n",
    "        print(f\"Index out of range. Please enter an integer between 0 and {len(string_input)-1}.\")"
   ]
  },
  {
   "cell_type": "markdown",
   "id": "0cc26f3e-6da6-433f-95c1-1a9adfa97b5a",
   "metadata": {},
   "source": [
    "## Review Exercises 5"
   ]
  },
  {
   "cell_type": "code",
   "execution_count": 5,
   "id": "4c150709-5e9a-4aef-80a3-51d9a781bbe1",
   "metadata": {},
   "outputs": [],
   "source": [
    "import random\n",
    "\n",
    "def roll():\n",
    "    return random.randint(1, 6)"
   ]
  },
  {
   "cell_type": "code",
   "execution_count": 6,
   "id": "d4afa6b3-5f91-4fa5-853b-cdc699dbf64e",
   "metadata": {},
   "outputs": [
    {
     "name": "stdout",
     "output_type": "stream",
     "text": [
      "Average number rolled in 10000 rolls: 3.5071\n"
     ]
    }
   ],
   "source": [
    "total = 0\n",
    "num_rolls = 10000\n",
    "\n",
    "for _ in range(num_rolls):\n",
    "    total += roll()\n",
    "\n",
    "average = total / num_rolls\n",
    "print(f\"Average number rolled in {num_rolls} rolls: {average}\")"
   ]
  },
  {
   "cell_type": "markdown",
   "id": "fcba402b-b40b-44dc-9a94-44b3d0c2c3ac",
   "metadata": {},
   "source": [
    "## Challenge"
   ]
  },
  {
   "cell_type": "code",
   "execution_count": 7,
   "id": "49b4f9d5-c876-4091-ac28-2271179f733b",
   "metadata": {},
   "outputs": [
    {
     "name": "stdout",
     "output_type": "stream",
     "text": [
      "Estimated probability that Candidate A wins the election: 0.6350\n"
     ]
    }
   ],
   "source": [
    "import random\n",
    "\n",
    "prob_region1 = 0.87\n",
    "prob_region2 = 0.65\n",
    "prob_region3 = 0.17\n",
    "\n",
    "def simulate_election():\n",
    "    wins = 0\n",
    "    wins += 1 if random.random() < prob_region1 else 0\n",
    "    wins += 1 if random.random() < prob_region2 else 0\n",
    "    wins += 1 if random.random() < prob_region3 else 0\n",
    "    return wins >= 2\n",
    "\n",
    "num_simulations = 100000\n",
    "candidate_a_wins = 0\n",
    "\n",
    "for _ in range(num_simulations):\n",
    "    if simulate_election():\n",
    "        candidate_a_wins += 1\n",
    "\n",
    "probability_candidate_a_wins = candidate_a_wins / num_simulations\n",
    "print(f\"Estimated probability that Candidate A wins the election: {probability_candidate_a_wins:.4f}\")"
   ]
  },
  {
   "cell_type": "code",
   "execution_count": null,
   "id": "0175d5d0-0d04-4eac-9b2d-d84cc11335df",
   "metadata": {},
   "outputs": [],
   "source": []
  }
 ],
 "metadata": {
  "kernelspec": {
   "display_name": "Python 3 (ipykernel)",
   "language": "python",
   "name": "python3"
  },
  "language_info": {
   "codemirror_mode": {
    "name": "ipython",
    "version": 3
   },
   "file_extension": ".py",
   "mimetype": "text/x-python",
   "name": "python",
   "nbconvert_exporter": "python",
   "pygments_lexer": "ipython3",
   "version": "3.13.5"
  }
 },
 "nbformat": 4,
 "nbformat_minor": 5
}
