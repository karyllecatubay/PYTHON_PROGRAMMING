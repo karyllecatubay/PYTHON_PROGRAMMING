{
 "cells": [
  {
   "cell_type": "markdown",
   "id": "373cc1ba-1600-4098-9cf7-b6c172ba383d",
   "metadata": {},
   "source": [
    "# MIDTERM EXAM | DATE: OCTOBER 22, 2025 \n",
    "## Catubay, Karylle C. | ID: 23745250"
   ]
  },
  {
   "cell_type": "markdown",
   "id": "c211020a-1494-4d7b-a48b-701f6e3396af",
   "metadata": {},
   "source": [
    "### Q1. String Normalizer & Finder"
   ]
  },
  {
   "cell_type": "markdown",
   "id": "38a8e5eb-95fa-4949-9b2f-da32a35d4d67",
   "metadata": {},
   "source": [
    "Task 1:\n",
    "\n",
    "Write a function normalize_and_find(text:\n",
    "str, needle: str) -> int that: (1) trims whitespace on both ends, (2) converts to lowercase, then (3) \n",
    "returns the index of the first occurrence of needle using\n",
    "a safe search (return −1 if not found). Discuss alternatives (find vs. index), and\n",
    "how your choice affects error handling. Anchor concepts: stripping, case conversion,\n",
    "find/replace, string immutability. Reference: :contentReference[oaicite:6]index=6\n",
    "\n",
    "Prompt:\n",
    "\n",
    "Write a Python function normalize_and_find(text: str, needle: str) -> int that removes extra spaces from both ends of the text, converts it to lowercase, and then searches for the first occurrence of needle.\n",
    "If the substring is not found, return -1 instead of raising an exception.\n",
    "Use the .find() method instead of .index() \n",
    "Include at least two tests—one where the substring is found and one where it isn’t."
   ]
  },
  {
   "cell_type": "code",
   "execution_count": 27,
   "id": "c47e8743-e6ee-4777-a436-f39b825bfa92",
   "metadata": {},
   "outputs": [
    {
     "name": "stdout",
     "output_type": "stream",
     "text": [
      "All tests passed.\n"
     ]
    }
   ],
   "source": [
    "#ChatGPT Code\n",
    "\n",
    "def normalize_and_find(text: str, needle: str) -> int:\n",
    "    \"\"\"\n",
    "    Return the index of the first occurrence of 'needle' in 'text'\n",
    "    after trimming spaces and converting both to lowercase.\n",
    "    Returns -1 if not found.\n",
    "    \"\"\"\n",
    "    if not isinstance(text, str) or not isinstance(needle, str):\n",
    "        raise TypeError(\"Both text and needle must be strings.\")\n",
    "    if needle == \"\":\n",
    "        return -1\n",
    "\n",
    "    normalized_text = text.strip().lower()\n",
    "    return normalized_text.find(needle.lower())\n",
    "\n",
    "\n",
    "if __name__ == \"__main__\":\n",
    "    assert normalize_and_find(\"   Hello World   \", \"world\") == 6\n",
    "    assert normalize_and_find(\"Python Programming\", \"java\") == -1\n",
    "    assert normalize_and_find(\"  Data Science  \", \"data\") == 0\n",
    "    assert normalize_and_find(\"  \", \"test\") == -1\n",
    "    print(\"All tests passed.\")"
   ]
  },
  {
   "cell_type": "markdown",
   "id": "670cca8f-28b4-46f3-9518-6e45b1cd31eb",
   "metadata": {},
   "source": [
    "Critique:\n",
    "\n",
    "Correctness: The code works. It finds the first occurrence of a word in a string after trimming spaces and ignoring case, and returns -1 if not found.\n",
    "\n",
    "Complexity: Runs fast (O(n) time), since it processes the string once.\n",
    "\n",
    "Robustness: Handles empty strings and wrong types with a clear error. Works well with strings that have extra spaces.\n",
    "\n",
    "Readability: Easy to read. Function name, variable names, and docstring clearly explain what it does.\n",
    "\n",
    "Faithfulness: Follows what we learned about string methods like .strip(), .lower(), and .find(), and uses proper error checking."
   ]
  },
  {
   "cell_type": "code",
   "execution_count": 15,
   "id": "69573af0-8b76-40e1-a44c-4d749461efdd",
   "metadata": {},
   "outputs": [
    {
     "name": "stdout",
     "output_type": "stream",
     "text": [
      "8\n",
      "-1\n"
     ]
    }
   ],
   "source": [
    "#Improved Code\n",
    "\n",
    "def normalize_and_find(text, needle):\n",
    "    return text.strip().lower().find(needle.lower())\n",
    "\n",
    "print(normalize_and_find(\"   Watashi no namae wa   \", \"No\"))\n",
    "print(normalize_and_find(\"Hello, Philippines\", \"world\"))"
   ]
  },
  {
   "cell_type": "markdown",
   "id": "22bf3f55-1632-4023-8c10-1c91262c577f",
   "metadata": {},
   "source": [
    "## Q2. Leetspeak Translator (Parametric)"
   ]
  },
  {
   "cell_type": "markdown",
   "id": "3d7efae5-5bb1-41cf-864f-fbddd0c72b9a",
   "metadata": {},
   "source": [
    "Task 2:\n",
    "\n",
    "Generalize our leetspeak idea: write translate(text:\n",
    "str, mapping: dict[str,str]) -> str that applies a mapping (e.g., {’a’:’4’,’e’:’3’,...})\n",
    "over lowercase letters only, leaving others unchanged. Explain why strings are immutable \n",
    "and show an efficient approach (e.g., list join vs. repeated concatenation).\n",
    "Anchor concepts: replace, iteration strategies, efficiency. Reference: :contentReference[oaicite:7]index=7\n",
    "\n",
    "Prompt:\n",
    "\n",
    "Write a Python function translate(text, mapping) that converts lowercase letters in text \n",
    "using a given mapping dictionary (e.g., {'a':'4','e':'3'}) and leaves other characters unchanged. \n",
    "Explain why strings are immutable and why using a list and \"\".join() is more efficient than repeated concatenation. \n",
    "Add a quick test."
   ]
  },
  {
   "cell_type": "code",
   "execution_count": 26,
   "id": "82d0e319-f7ef-4deb-8830-a021ff5b652a",
   "metadata": {},
   "outputs": [
    {
     "name": "stdout",
     "output_type": "stream",
     "text": [
      "All tests passed.\n"
     ]
    }
   ],
   "source": [
    "#ChatGPT Code\n",
    "\n",
    "def translate(text: str, mapping: dict[str, str]) -> str:\n",
    "    \"\"\"\n",
    "    Translates lowercase letters in `text` according to `mapping`.\n",
    "    Other characters remain unchanged.\n",
    "\n",
    "    Uses a list to accumulate results for efficiency.\n",
    "    \"\"\"\n",
    "    # Using list for efficient string building (O(n) instead of O(n^2))\n",
    "    result = []\n",
    "    for char in text:\n",
    "        if char.islower() and char in mapping:  # only lowercase letters replaced\n",
    "            result.append(mapping[char])\n",
    "        else:\n",
    "            result.append(char)\n",
    "    return \"\".join(result)  # join list into final string\n",
    "\n",
    "if __name__ == \"__main__\":\n",
    "    test_text = \"hello world\"\n",
    "    test_mapping = {'a': '4', 'e': '3', 'o': '0'}\n",
    "    assert translate(test_text, test_mapping) == \"h3ll0 w0rld\"\n",
    "    assert translate(\"\", test_mapping) == \"\"\n",
    "    assert translate(\"Python\", test_mapping) == \"Pyth0n\"\n",
    "    print(\"All tests passed.\")\n"
   ]
  },
  {
   "cell_type": "markdown",
   "id": "210fdb2c-b86c-4c5c-917d-71d3855760c2",
   "metadata": {},
   "source": [
    "Critique:\n",
    "\n",
    "Correctness: The code works. It correctly replaces lowercase letters according to the mapping, and leaves other characters unchanged.\n",
    "\n",
    "Complexity: Efficient. Using a list to build the string keeps it fast (O(n) time).\n",
    "\n",
    "Robustness: Works for empty strings and strings with characters not in the mapping. Could be improved to handle non-string inputs.\n",
    "\n",
    "Readability: Clear and easy to understand. Function name, variable names, and comments explain what the code does.\n",
    "\n",
    "Faithfulness: Follows Python best practices and matches what we learned about string manipulation and using dictionaries."
   ]
  },
  {
   "cell_type": "code",
   "execution_count": 18,
   "id": "8777c112-8081-495c-ab86-9121f18d7a97",
   "metadata": {},
   "outputs": [
    {
     "name": "stdout",
     "output_type": "stream",
     "text": [
      "h3ll0 w0rld\n",
      "Pyth0n\n",
      "\n"
     ]
    }
   ],
   "source": [
    "#Improved Code\n",
    "\n",
    "def translate(text, mapping):\n",
    "    result = \"\"\n",
    "    for char in text:\n",
    "        if char in mapping:\n",
    "            result += mapping[char]\n",
    "        else:\n",
    "            result += char\n",
    "    return result\n",
    "\n",
    "print(translate(\"hello world\", {'a':'4','e':'3','o':'0'}))  \n",
    "print(translate(\"Python\", {'a':'4','e':'3','o':'0'}))       \n",
    "print(translate(\"\", {'a':'4'}))                              "
   ]
  },
  {
   "cell_type": "markdown",
   "id": "4bdcbd1f-5472-49fb-b6f4-0aaa3d77836a",
   "metadata": {},
   "source": [
    "## Q3. Currency Formatter & Rounding Ties-to-Even"
   ]
  },
  {
   "cell_type": "markdown",
   "id": "f719fae9-8127-4cad-9a98-5e541f83827b",
   "metadata": {},
   "source": [
    "Task 3:\n",
    "\n",
    "Write fmt_money(x: float)\n",
    "-> str that returns a string like 1,234.50 using proper rounding (banker’s rounding / ties-to-even). Include test cases that demonstrate ties (e.g., 2.5, 3.5). Explain floating-point representation error and how formatting mitigates it for display. Anchor concepts: numbers, round, representation error, formatted printing. Reference:\n",
    ":contentReference[oaicite:8]index=8\n",
    "\n",
    "Prompt:\n",
    "\n",
    "Write a Python function fmt_money(x: float) -> str that returns a string like \"1,234.50\" using proper rounding (banker’s rounding / ties-to-even). Include test cases showing ties (e.g., 2.5, 3.5). Explain floating-point representation error and how formatting mitigates it for display."
   ]
  },
  {
   "cell_type": "code",
   "execution_count": 25,
   "id": "1b43ea4b-4645-40f0-adfc-3897ff759bbf",
   "metadata": {},
   "outputs": [
    {
     "name": "stdout",
     "output_type": "stream",
     "text": [
      "1,234.50\n",
      "2.50\n",
      "3.50\n",
      "1,234,567.90\n"
     ]
    }
   ],
   "source": [
    "#ChatGPT Code\n",
    "\n",
    "def fmt_money(x: float) -> str:\n",
    "    \"\"\"\n",
    "    Format a float as currency with commas, two decimal places,\n",
    "    using banker’s rounding (ties-to-even).\n",
    "    \"\"\"\n",
    "    # round() in Python uses ties-to-even by default\n",
    "    rounded = round(x, 2)\n",
    "    return f\"{rounded:,.2f}\"\n",
    "\n",
    "# Test cases demonstrating ties\n",
    "if __name__ == \"__main__\":\n",
    "    print(fmt_money(1234.5))    # 1,234.50\n",
    "    print(fmt_money(2.5))       # 2.50 -> rounded ties-to-even\n",
    "    print(fmt_money(3.5))       # 3.50 -> rounded ties-to-even\n",
    "    print(fmt_money(1234567.895)) # 1,234,567.90"
   ]
  },
  {
   "cell_type": "markdown",
   "id": "2bec2ed4-f8fa-4f5b-85be-135d13c3dd32",
   "metadata": {},
   "source": [
    "Critique:\n",
    "\n",
    "Correctness: The code works. It formats numbers as money with commas, two decimal places, and uses banker’s rounding correctly.\n",
    "\n",
    "Complexity: Very fast and simple; rounding and formatting are done in O(1) time.\n",
    "\n",
    "Robustness: Works for normal numbers. Could be improved to handle negative numbers or non-numeric inputs more explicitly.\n",
    "\n",
    "Readability: Easy to read. Function name, comments, and docstring clearly explain what the code does.\n",
    "\n",
    "Faithfulness: Uses standard Python features like round() and string formatting correctly, following best practices."
   ]
  },
  {
   "cell_type": "code",
   "execution_count": 18,
   "id": "c33aaa82-650b-4a3a-9497-5fc2e7c2e29f",
   "metadata": {},
   "outputs": [
    {
     "name": "stdout",
     "output_type": "stream",
     "text": [
      "1,234.50\n",
      "2.50\n",
      "3.50\n"
     ]
    }
   ],
   "source": [
    "#Improved Code\n",
    "\n",
    "def format_money(x):\n",
    "    rounded = round(x, 2)\n",
    "    \n",
    "    return \"{:,.2f}\".format(rounded)\n",
    "\n",
    "print(format_money(1234.5))       \n",
    "print(format_money(2.5))           \n",
    "print(format_money(3.5))           "
   ]
  },
  {
   "cell_type": "markdown",
   "id": "e04b6c77-b3f8-44cb-a09e-22668c5f5732",
   "metadata": {},
   "source": [
    "## Q4. Exponent Tool & Input Validation"
   ]
  },
  {
   "cell_type": "markdown",
   "id": "2d7092e0-659d-4327-b933-4f27332102d9",
   "metadata": {},
   "source": [
    "Task 4:\n",
    "\n",
    "Create a CLI program exponent.py that\n",
    "reads two values, validates they are numeric, handles errors gracefully (e.g., ValueError),\n",
    "and prints a ** b with clear messages. Compare using try/except vs. pre-validation\n",
    "with str.isdigit() (and why isdigit() is insufficient for negatives/floats). Anchor concepts: arithmetic operators, exceptions, input. Reference: :contentReference[oaicite:9]index=9, :contentReference[oaicite:10]index=10\n",
    "\n",
    "Prompt:\n",
    "\n",
    "Write a Python CLI program exponent.py that asks the user to enter two numbers, validates that they are numeric, and prints the first number raised to the power of the second. Use try/except to catch errors. Explain why str.isdigit() is insufficient for negative numbers or floats. Include examples."
   ]
  },
  {
   "cell_type": "code",
   "execution_count": 24,
   "id": "526ef0a7-db53-46b8-a456-539bf01ebdf8",
   "metadata": {},
   "outputs": [
    {
     "name": "stdout",
     "output_type": "stream",
     "text": [
      "Exponentiation Tool\n"
     ]
    },
    {
     "name": "stdin",
     "output_type": "stream",
     "text": [
      "Enter the base (a):  3\n",
      "Enter the exponent (b):  4\n"
     ]
    },
    {
     "name": "stdout",
     "output_type": "stream",
     "text": [
      "3.0 ** 4.0 = 81.0\n"
     ]
    }
   ],
   "source": [
    "#ChatGPT Code\n",
    "\n",
    "# exponent.py\n",
    "def main():\n",
    "    print(\"Exponentiation Tool\")\n",
    "    \n",
    "    try:\n",
    "        a = float(input(\"Enter the base (a): \"))\n",
    "        b = float(input(\"Enter the exponent (b): \"))\n",
    "    except ValueError:\n",
    "        print(\"Error: Please enter valid numeric values.\")\n",
    "        return\n",
    "    \n",
    "    result = a ** b\n",
    "    print(f\"{a} ** {b} = {result}\")\n",
    "\n",
    "if __name__ == \"__main__\":\n",
    "    main()"
   ]
  },
  {
   "cell_type": "markdown",
   "id": "0bd36af8-aa5e-4571-835d-a0e81bd90db5",
   "metadata": {},
   "source": [
    "Critique:\n",
    "\n",
    "Correctness: The code works. It correctly calculates for any numbers the user enters.\n",
    "\n",
    "Complexity: Very simple and fast; calculations are done in O(1) time.\n",
    "\n",
    "Robustness: Handles invalid inputs using try/except, so it won’t crash if the user types something that isn’t a number.\n",
    "\n",
    "Readability: Easy to read and understand. Variable names are clear, and the prompts tell the user what to do.\n",
    "\n",
    "Faithfulness: Uses basic Python features like input, type conversion, exception handling, and exponentiation correctly, following standard coding practices."
   ]
  },
  {
   "cell_type": "code",
   "execution_count": 30,
   "id": "2f4be83e-604b-4f8f-840f-8e126912db76",
   "metadata": {},
   "outputs": [
    {
     "name": "stdout",
     "output_type": "stream",
     "text": [
      "Exponentiation Tool\n"
     ]
    },
    {
     "name": "stdin",
     "output_type": "stream",
     "text": [
      "Enter the base (a):  45\n",
      "Enter the exponent (b):  2\n"
     ]
    },
    {
     "name": "stdout",
     "output_type": "stream",
     "text": [
      "45.0 ** 2.0 = 2025.0\n"
     ]
    }
   ],
   "source": [
    "#Improved Code\n",
    "\n",
    "def get_number(prompt):\n",
    "\n",
    "    while True:\n",
    "        value = input(prompt)\n",
    "        try:\n",
    "            return float(value)\n",
    "        except ValueError:\n",
    "            print(\"Invalid input. Please enter a numeric value.\")\n",
    "\n",
    "def main():\n",
    "    print(\"Exponentiation Tool\")\n",
    "    \n",
    "    a = get_number(\"Enter the base (a): \")\n",
    "    b = get_number(\"Enter the exponent (b): \")\n",
    "    \n",
    "    result = a ** b\n",
    "    print(f\"{a} ** {b} = {result}\")\n",
    "\n",
    "if __name__ == \"__main__\":\n",
    "    main()"
   ]
  },
  {
   "cell_type": "markdown",
   "id": "a1153791-8519-4785-8cb0-798a87c3b4ab",
   "metadata": {},
   "source": [
    "## Q5. Password Policy Checker"
   ]
  },
  {
   "cell_type": "markdown",
   "id": "4dcd07ee-7a32-4514-9107-6c27b2c9ae42",
   "metadata": {},
   "source": [
    "Task 5:\n",
    "\n",
    "(If/Elif/Else + Loops). Implement check_password(pw:\n",
    "str) -> dict that validates: length ≥ 10, at least one uppercase, one lowercase,\n",
    "one digit, one symbol in !@#$%^&*, and no spaces. Return a dict of booleans per\n",
    "rule and an overall pass/fail. Include a loop that prompts until a valid password\n",
    "is entered (allow quit with Q/q). Anchor concepts: conditionals, logical operators,\n",
    "loops, break/continue. Reference: :contentReference[oaicite:11]index=11\n",
    "\n",
    "Prompt:\n",
    "\n",
    "Write a Python function check_password(pw: str) -> dict that validates a password with these rules: length ≥ 10, contains uppercase, lowercase, digit, symbol from !@#$%^&*, no spaces. Return a dictionary with each rule’s status and an overall pass/fail. Include a loop that repeatedly asks for a password until valid, allowing the user to quit with Q/q."
   ]
  },
  {
   "cell_type": "code",
   "execution_count": 31,
   "id": "a92c68f4-c09e-4978-b65b-c501e35cc77e",
   "metadata": {},
   "outputs": [
    {
     "name": "stdin",
     "output_type": "stream",
     "text": [
      "Enter a password (Q to quit):  helloworld123\n"
     ]
    },
    {
     "name": "stdout",
     "output_type": "stream",
     "text": [
      "length: ✔\n",
      "uppercase: ✖\n",
      "lowercase: ✔\n",
      "digit: ✔\n",
      "symbol: ✖\n",
      "no_spaces: ✔\n",
      "Password does not meet all requirements. Try again.\n",
      "\n"
     ]
    },
    {
     "name": "stdin",
     "output_type": "stream",
     "text": [
      "Enter a password (Q to quit):  helloWorld_123\n"
     ]
    },
    {
     "name": "stdout",
     "output_type": "stream",
     "text": [
      "length: ✔\n",
      "uppercase: ✔\n",
      "lowercase: ✔\n",
      "digit: ✔\n",
      "symbol: ✖\n",
      "no_spaces: ✔\n",
      "Password does not meet all requirements. Try again.\n",
      "\n"
     ]
    },
    {
     "name": "stdin",
     "output_type": "stream",
     "text": [
      "Enter a password (Q to quit):  helloWorld@123\n"
     ]
    },
    {
     "name": "stdout",
     "output_type": "stream",
     "text": [
      "length: ✔\n",
      "uppercase: ✔\n",
      "lowercase: ✔\n",
      "digit: ✔\n",
      "symbol: ✔\n",
      "no_spaces: ✔\n",
      "Password is valid!\n"
     ]
    }
   ],
   "source": [
    "#ChatGPT Code\n",
    "\n",
    "def check_password(pw: str) -> dict:\n",
    "    \"\"\"\n",
    "    Check password rules and return a dictionary with rule results and overall pass/fail.\n",
    "    \"\"\"\n",
    "    symbols = \"!@#$%^&*\"\n",
    "    results = {\n",
    "        \"length\": len(pw) >= 10,\n",
    "        \"uppercase\": any(c.isupper() for c in pw),\n",
    "        \"lowercase\": any(c.islower() for c in pw),\n",
    "        \"digit\": any(c.isdigit() for c in pw),\n",
    "        \"symbol\": any(c in symbols for c in pw),\n",
    "        \"no_spaces\": \" \" not in pw\n",
    "    }\n",
    "    results[\"pass\"] = all(results.values())\n",
    "    return results\n",
    "\n",
    "if __name__ == \"__main__\":\n",
    "    while True:\n",
    "        pw = input(\"Enter a password (Q to quit): \")\n",
    "        if pw.lower() == \"q\":\n",
    "            print(\"Exiting.\")\n",
    "            break\n",
    "        res = check_password(pw)\n",
    "        for rule, status in res.items():\n",
    "            if rule != \"pass\":\n",
    "                print(f\"{rule}: {'✔' if status else '✖'}\")\n",
    "        if res[\"pass\"]:\n",
    "            print(\"Password is valid!\")\n",
    "            break\n",
    "        else:\n",
    "            print(\"Password does not meet all requirements. Try again.\\n\")"
   ]
  },
  {
   "cell_type": "markdown",
   "id": "eec9343b-b4ed-4856-8b47-4c3484c58961",
   "metadata": {},
   "source": [
    "Critique:\n",
    "\n",
    "Correctness: The code works. It correctly checks if a password follows all the rules and tells the user which rules are passed or failed.\n",
    "\n",
    "Complexity: Very simple and fast. Each check runs quickly even for long passwords.\n",
    "\n",
    "Robustness: Handles normal inputs well. Could be improved by checking for non-string inputs, but works fine for typical use.\n",
    "\n",
    "Readability: Easy to read. Variable and function names make sense, and the printed symbols make results clear.\n",
    "\n",
    "Faithfulness: Follows what we learned about using loops, conditionals, and string methods in Python."
   ]
  },
  {
   "cell_type": "code",
   "execution_count": 32,
   "id": "b6601b0d-96cb-42c7-b7c4-e924d49c6112",
   "metadata": {},
   "outputs": [
    {
     "name": "stdout",
     "output_type": "stream",
     "text": [
      "Password Policy Checker\n"
     ]
    },
    {
     "name": "stdin",
     "output_type": "stream",
     "text": [
      "Enter a password (Q to quit):  2\n"
     ]
    },
    {
     "name": "stdout",
     "output_type": "stream",
     "text": [
      "length: ✖\n",
      "uppercase: ✖\n",
      "lowercase: ✖\n",
      "digit: ✔\n",
      "symbol: ✖\n",
      "no_spaces: ✔\n",
      "Password does not meet all requirements. Try again.\n",
      "\n"
     ]
    },
    {
     "name": "stdin",
     "output_type": "stream",
     "text": [
      "Enter a password (Q to quit):  helloWorld@123\n"
     ]
    },
    {
     "name": "stdout",
     "output_type": "stream",
     "text": [
      "length: ✔\n",
      "uppercase: ✔\n",
      "lowercase: ✔\n",
      "digit: ✔\n",
      "symbol: ✔\n",
      "no_spaces: ✔\n",
      "Password is valid!\n"
     ]
    }
   ],
   "source": [
    "#Improved Code\n",
    "\n",
    "def check_password(pw: str) -> dict:\n",
    "    \n",
    "    symbols = \"!@#$%^&*\"\n",
    "\n",
    "    length = len(pw) >= 10\n",
    "    uppercase = False\n",
    "    lowercase = False\n",
    "    digit = False\n",
    "    symbol = False\n",
    "    no_spaces = True\n",
    "\n",
    "    for c in pw:\n",
    "        if c.isupper():\n",
    "            uppercase = True\n",
    "        elif c.islower():\n",
    "            lowercase = True\n",
    "        elif c.isdigit():\n",
    "            digit = True\n",
    "        elif c in symbols:\n",
    "            symbol = True\n",
    "        elif c == \" \":\n",
    "            no_spaces = False\n",
    "\n",
    "    overall = all([length, uppercase, lowercase, digit, symbol, no_spaces])\n",
    "\n",
    "    return {\n",
    "        \"length\": length,\n",
    "        \"uppercase\": uppercase,\n",
    "        \"lowercase\": lowercase,\n",
    "        \"digit\": digit,\n",
    "        \"symbol\": symbol,\n",
    "        \"no_spaces\": no_spaces_,\n",
    "        \"pass\": overall\n",
    "    }\n",
    "\n",
    "if __name__ == \"__main__\":\n",
    "    print(\"Password Policy Checker\")\n",
    "    while True:\n",
    "        pw = input(\"Enter a password (Q to quit): \")\n",
    "        if pw.lower() == \"q\":\n",
    "            print(\"Exiting.\")\n",
    "            break\n",
    "\n",
    "        result = check_password(pw)\n",
    "        for rule, status in result.items():\n",
    "            if rule != \"pass\":\n",
    "                print(f\"{rule}: {'✔' if status else '✖'}\")\n",
    "        if result[\"pass\"]:\n",
    "            print(\"Password is valid!\")\n",
    "            break\n",
    "        else:\n",
    "            print(\"Password does not meet all requirements. Try again.\\n\")\n"
   ]
  },
  {
   "cell_type": "markdown",
   "id": "3fd8fea3-2046-44ce-9662-ffdcd9863c16",
   "metadata": {},
   "source": [
    "## Q6. Dice Simulation (Monte Carlo)"
   ]
  },
  {
   "cell_type": "markdown",
   "id": "c001149b-4715-4746-8e6e-4f2e7fd3fa60",
   "metadata": {},
   "source": [
    "Task 6:\n",
    "\n",
    "Write roll() -> int to simulate a fair die,\n",
    "then simulate 100,000 rolls to estimate the probability that the sum of two dice\n",
    "equals 7. Compare empirical result to the exact probability. Comment on random\n",
    "seeding and reproducibility. Anchor concepts: random module, simulation, averages.\n",
    "Reference: :contentReference[oaicite:12]index=12\n",
    "\n",
    "Prompt:\n",
    "\n",
    "Write a Python function roll() -> int to simulate a fair 6-sided die. Then run 100,000 simulations of rolling two dice and estimate the probability that the sum equals 7. Compare with exact probability. Discuss random seeding for reproducibility."
   ]
  },
  {
   "cell_type": "code",
   "execution_count": 33,
   "id": "eb910f6f-aa77-4816-82ea-9d7326049418",
   "metadata": {},
   "outputs": [
    {
     "name": "stdout",
     "output_type": "stream",
     "text": [
      "Empirical probability of sum 7: 0.1644\n",
      "Exact probability of sum 7: 0.1667\n",
      "Example roll with seed: 6\n"
     ]
    }
   ],
   "source": [
    "#ChatGPT Code\n",
    "\n",
    "import random\n",
    "\n",
    "def roll() -> int:\n",
    "    \"\"\"Simulate a fair 6-sided die roll.\"\"\"\n",
    "    return random.randint(1, 6)\n",
    "\n",
    "# Monte Carlo simulation\n",
    "trials = 100_000\n",
    "count_sum7 = 0\n",
    "\n",
    "for _ in range(trials):\n",
    "    die1 = roll()\n",
    "    die2 = roll()\n",
    "    if die1 + die2 == 7:\n",
    "        count_sum7 += 1\n",
    "\n",
    "empirical_prob = count_sum7 / trials\n",
    "exact_prob = 6 / 36  # 6 ways to get sum 7 out of 36 total\n",
    "\n",
    "print(f\"Empirical probability of sum 7: {empirical_prob:.4f}\")\n",
    "print(f\"Exact probability of sum 7: {exact_prob:.4f}\")\n",
    "\n",
    "# Reproducibility with seed\n",
    "random.seed(42)\n",
    "print(f\"Example roll with seed: {roll()}\")"
   ]
  },
  {
   "cell_type": "markdown",
   "id": "f77fd3ed-14be-4173-92dd-be24b6831d7d",
   "metadata": {},
   "source": [
    "Critique:\n",
    "\n",
    "Correctness: The code works. It correctly simulates rolling two dice and counts how often the sum is 7. It also compares the simulation with the exact probability.\n",
    "\n",
    "Complexity: Very simple and fast. Even with 100,000 trials, it runs quickly.\n",
    "\n",
    "Robustness: Works well. Could improve by checking for negative trials or non-integer input if needed.\n",
    "\n",
    "Readability: Easy to understand. Function and variable names are clear, and comments explain what each part does.\n",
    "\n",
    "Faithfulness: Follows what we learned about probability and simulations in Python. Uses functions, loops, and random numbers correctly."
   ]
  },
  {
   "cell_type": "code",
   "execution_count": 19,
   "id": "05294481-a583-49c6-863b-a92eec31b1c9",
   "metadata": {},
   "outputs": [
    {
     "name": "stdout",
     "output_type": "stream",
     "text": [
      "Empirical probability of sum 7: 0.1646\n",
      "Exact probability of sum 7: 0.1667\n",
      "Example single roll: 3\n"
     ]
    }
   ],
   "source": [
    "#Improved Code\n",
    "\n",
    "import random\n",
    "\n",
    "def roll() -> int:\n",
    "    return random.randint(1, 6)\n",
    "\n",
    "def simulate_dice(trials: int = 100_000):\n",
    "    count_sum7 = 0\n",
    "    for _ in range(trials):\n",
    "        die1 = roll()\n",
    "        die2 = roll()\n",
    "        if die1 + die2 == 7:\n",
    "            count_sum7 += 1\n",
    "    return count_sum7 / trials\n",
    "\n",
    "if __name__ == \"__main__\":\n",
    "    random.seed(42)\n",
    "\n",
    "    empirical_prob = simulate_dice()\n",
    "    exact_prob = 6 / 36 \n",
    "\n",
    "    print(f\"Empirical probability of sum 7: {empirical_prob:.4f}\")\n",
    "    print(f\"Exact probability of sum 7: {exact_prob:.4f}\")\n",
    "\n",
    "    print(f\"Example single roll: {roll()}\")"
   ]
  },
  {
   "cell_type": "markdown",
   "id": "3a3d3ffd-7836-40c4-9ad7-6ac1a45defb4",
   "metadata": {},
   "source": [
    "## Q7. OOP: Vehicles with Odometer and Fuel"
   ]
  },
  {
   "cell_type": "markdown",
   "id": "af6edad1-4fad-45a2-9132-29a388c58a1d",
   "metadata": {},
   "source": [
    "Task 7:\n",
    "\n",
    "Design classes Vehicle (base),\n",
    "Car and Truck (children). Each has color, mileage, and fuel_liters. Provide\n",
    "drive(km, km_per_liter) which increments mileage and decreases fuel (never below 0) and refuel(liters). Show how inheritance avoids duplication and add\n",
    "a method override in Truck (e.g., different efficiency). Include a minimal test\n",
    "script. Anchor concepts: classes vs. instances, attributes, instance methods, inheritance/override. Reference: :contentReference[oaicite:13]index=13\n",
    "\n",
    "Prompt:\n",
    "\n",
    "Design Python classes Vehicle (base), Car and Truck (children). Each has color, mileage, fuel_liters. Implement drive(km, km_per_liter) and refuel(liters). Truck overrides drive() with different efficiency. Show a minimal test script demonstrating functionality."
   ]
  },
  {
   "cell_type": "code",
   "execution_count": 35,
   "id": "f6499879-82f3-4e85-889b-61fa3132663b",
   "metadata": {},
   "outputs": [
    {
     "name": "stdout",
     "output_type": "stream",
     "text": [
      "Vehicle drove 100 km, fuel left: 40.00 L\n",
      "Vehicle drove 100 km, fuel left: 107.50 L\n",
      "Refueled 20 L, total fuel: 60.00 L\n",
      "Refueled 30 L, total fuel: 137.50 L\n",
      "Car mileage: 1100, fuel: 60.0\n",
      "Truck mileage: 5100, fuel: 137.5\n"
     ]
    }
   ],
   "source": [
    "#ChatGPT Code\n",
    "\n",
    "class Vehicle:\n",
    "    def __init__(self, color: str, mileage: float, fuel_liters: float):\n",
    "        self.color = color\n",
    "        self.mileage = mileage\n",
    "        self.fuel_liters = fuel_liters\n",
    "\n",
    "    def drive(self, km: float, km_per_liter: float):\n",
    "        \"\"\"Drive the vehicle, updating mileage and reducing fuel.\"\"\"\n",
    "        needed_fuel = km / km_per_liter\n",
    "        if needed_fuel > self.fuel_liters:\n",
    "            km = self.fuel_liters * km_per_liter\n",
    "            self.fuel_liters = 0\n",
    "        else:\n",
    "            self.fuel_liters -= needed_fuel\n",
    "        self.mileage += km\n",
    "        print(f\"Vehicle drove {km} km, fuel left: {self.fuel_liters:.2f} L\")\n",
    "\n",
    "    def refuel(self, liters: float):\n",
    "        self.fuel_liters += liters\n",
    "        print(f\"Refueled {liters} L, total fuel: {self.fuel_liters:.2f} L\")\n",
    "\n",
    "class Car(Vehicle):\n",
    "    pass  # Inherits everything from Vehicle\n",
    "\n",
    "class Truck(Vehicle):\n",
    "    def drive(self, km: float, km_per_liter: float):\n",
    "        \"\"\"Trucks are less efficient: 80% of normal efficiency\"\"\"\n",
    "        truck_efficiency = km_per_liter * 0.8\n",
    "        super().drive(km, truck_efficiency)\n",
    "\n",
    "# Minimal test\n",
    "if __name__ == \"__main__\":\n",
    "    car = Car(\"red\", 1000, 50)\n",
    "    truck = Truck(\"blue\", 5000, 120)\n",
    "\n",
    "    car.drive(100, 10)   # 100 km at 10 km/L\n",
    "    truck.drive(100, 10) # less efficient\n",
    "    car.refuel(20)\n",
    "    truck.refuel(30)\n",
    "\n",
    "    print(f\"Car mileage: {car.mileage}, fuel: {car.fuel_liters}\")\n",
    "    print(f\"Truck mileage: {truck.mileage}, fuel: {truck.fuel_liters}\")"
   ]
  },
  {
   "cell_type": "markdown",
   "id": "240cace2-1ad5-4d04-9c6a-8fcc57f44a82",
   "metadata": {},
   "source": [
    "Critique:\n",
    "\n",
    "Correctness: The code works. Driving changes the mileage and fuel correctly, and trucks use less fuel like they should. Refueling works too.\n",
    "\n",
    "Complexity: The code is simple and runs fast.\n",
    "\n",
    "Robustness: Handles cases when there isn’t enough fuel to drive the full distance. Could check for wrong inputs like negative numbers.\n",
    "\n",
    "Readability: Easy to read and understand. Class and method names make sense, and the docstrings help explain what the functions do.\n",
    "\n",
    "Faithfulness: Uses classes and inheritance properly, which is what we learned in Python OOP."
   ]
  },
  {
   "cell_type": "code",
   "execution_count": 20,
   "id": "eef78160-8d49-4e85-b8c2-ee615ffb6151",
   "metadata": {},
   "outputs": [
    {
     "name": "stdout",
     "output_type": "stream",
     "text": [
      "Car drove 100 km, fuel left: 40.00 L\n",
      "Truck drove 100 km, fuel left: 107.50 L\n",
      "Car refueled 20 L, total fuel: 60.00 L\n",
      "Truck refueled 30 L, total fuel: 137.50 L\n",
      "Car mileage: 1100, fuel: 60.0\n",
      "Truck mileage: 5100, fuel: 137.5\n"
     ]
    }
   ],
   "source": [
    "#Improved Code\n",
    "\n",
    "class Vehicle:\n",
    "    def __init__(self, color, mileage, fuel_liters):\n",
    "        self.color = color\n",
    "        self.mileage = mileage\n",
    "        self.fuel_liters = fuel_liters\n",
    "\n",
    "    def drive(self, km, km_per_liter):\n",
    "        \n",
    "        needed_fuel = km / km_per_liter\n",
    "        if needed_fuel > self.fuel_liters:\n",
    "           \n",
    "            km = self.fuel_liters * km_per_liter\n",
    "            self.fuel_liters = 0\n",
    "        else:\n",
    "            self.fuel_liters -= needed_fuel\n",
    "        self.mileage += km\n",
    "        print(f\"{self.__class__.__name__} drove {km} km, fuel left: {self.fuel_liters:.2f} L\")\n",
    "\n",
    "    def refuel(self, liters):\n",
    "        self.fuel_liters += liters\n",
    "        print(f\"{self.__class__.__name__} refueled {liters} L, total fuel: {self.fuel_liters:.2f} L\")\n",
    "\n",
    "class Car(Vehicle):\n",
    "    pass  \n",
    "\n",
    "class Truck(Vehicle):\n",
    "    def drive(self, km, km_per_liter):\n",
    "        \n",
    "        adjusted_kmpl = km_per_liter * 0.8\n",
    "        super().drive(km, adjusted_kmpl)\n",
    "\n",
    "if __name__ == \"__main__\":\n",
    "    car = Car(\"red\", 1000, 50)\n",
    "    truck = Truck(\"blue\", 5000, 120)\n",
    "\n",
    "    car.drive(100, 10)\n",
    "    truck.drive(100, 10)\n",
    "\n",
    "    car.refuel(20)\n",
    "    truck.refuel(30)\n",
    "\n",
    "    print(f\"Car mileage: {car.mileage}, fuel: {car.fuel_liters}\")\n",
    "    print(f\"Truck mileage: {truck.mileage}, fuel: {truck.fuel_liters}\")"
   ]
  },
  {
   "cell_type": "markdown",
   "id": "5ad89be9-e9a9-4e73-8f93-9bcf0dc264db",
   "metadata": {},
   "source": [
    "## Q8. OOP + Composition: Kennel with Dogs"
   ]
  },
  {
   "cell_type": "markdown",
   "id": "f46c49a1-ea75-4609-b876-9fe2682c5f0a",
   "metadata": {},
   "source": [
    "Task 2:\n",
    "\n",
    "Using a Dog class (name, age, breed,\n",
    "bark()), implement a Kennel manager that holds multiple Dog instances, supports\n",
    "add_dog, remove_dog, oldest_dog(), and find_by_breed(breed). Compare composition vs. inheritance for this scenario. Anchor concepts: OOP design, managing\n",
    "collections of objects. Reference: :contentReference[oaicite:14]index=14\n",
    "\n",
    "Prompt:\n",
    "\n",
    "Write Python classes: Dog with name, age, breed, and bark().\n",
    "Then write Kennel to manage multiple Dog instances with add_dog, remove_dog, oldest_dog, and find_by_breed. Explain why composition is better than inheritance here."
   ]
  },
  {
   "cell_type": "code",
   "execution_count": 21,
   "id": "b7964263-6a92-448e-86b0-b74f90b11231",
   "metadata": {},
   "outputs": [
    {
     "name": "stdout",
     "output_type": "stream",
     "text": [
      "Buddy added to the kennel.\n",
      "Max added to the kennel.\n",
      "Bella added to the kennel.\n",
      "Oldest dog: Bella\n",
      "Labradors: ['Buddy', 'Bella']\n"
     ]
    }
   ],
   "source": [
    "#ChatGPT Code\n",
    "\n",
    "class Dog:\n",
    "    def __init__(self, name, age, breed):\n",
    "        self.name = name\n",
    "        self.age = age\n",
    "        self.breed = breed\n",
    "\n",
    "    def bark(self):\n",
    "        print(f\"{self.name} says: Woof!\")\n",
    "\n",
    "class Kennel:\n",
    "    def __init__(self):\n",
    "        self.dogs = []\n",
    "\n",
    "    def add_dog(self, dog):\n",
    "        self.dogs.append(dog)\n",
    "        print(f\"{dog.name} added to the kennel.\")\n",
    "\n",
    "    def remove_dog(self, dog_name):\n",
    "        for dog in self.dogs:\n",
    "            if dog.name == dog_name:\n",
    "                self.dogs.remove(dog)\n",
    "                print(f\"{dog_name} removed from the kennel.\")\n",
    "                return\n",
    "        print(f\"No dog named {dog_name} found.\")\n",
    "\n",
    "    def oldest_dog(self):\n",
    "        if not self.dogs:\n",
    "            return None\n",
    "        return max(self.dogs, key=lambda d: d.age)\n",
    "\n",
    "    def find_by_breed(self, breed):\n",
    "        return [dog for dog in self.dogs if dog.breed == breed]\n",
    "\n",
    "# Minimal test\n",
    "if __name__ == \"__main__\":\n",
    "    dog1 = Dog(\"Buddy\", 5, \"Labrador\")\n",
    "    dog2 = Dog(\"Max\", 3, \"Beagle\")\n",
    "    dog3 = Dog(\"Bella\", 7, \"Labrador\")\n",
    "\n",
    "    kennel = Kennel()\n",
    "    kennel.add_dog(dog1)\n",
    "    kennel.add_dog(dog2)\n",
    "    kennel.add_dog(dog3)\n",
    "\n",
    "    print(\"Oldest dog:\", kennel.oldest_dog().name)\n",
    "    labs = kennel.find_by_breed(\"Labrador\")\n",
    "    print(\"Labradors:\", [d.name for d in labs])"
   ]
  },
  {
   "cell_type": "markdown",
   "id": "3c2f4684-ee44-4426-89cf-e13b1df79aec",
   "metadata": {},
   "source": [
    "Critique:\n",
    "\n",
    "Correctness: The classes work as intended. Dogs can be added/removed from the kennel, the oldest dog is found correctly, and breed searches return accurate results.\n",
    "\n",
    "Complexity: Efficient for small collections; most operations run in O(n) time, which is acceptable for typical use.\n",
    "\n",
    "Robustness: Handles empty kennel cases in oldest_dog(). Removing a non-existent dog prints a message instead of crashing. Could add more type checks for robustness.\n",
    "\n",
    "Readability: Code is clean and well-organized. Class and method names are descriptive. The minimal test clearly demonstrates functionality.\n",
    "\n",
    "Faithfulness: Uses object-oriented principles correctly, including encapsulation and methods for operations on the Kennel, consistent with standard Python OOP lecture."
   ]
  },
  {
   "cell_type": "code",
   "execution_count": 22,
   "id": "51767cbd-7454-4afd-a392-066f0699d9bd",
   "metadata": {},
   "outputs": [
    {
     "name": "stdout",
     "output_type": "stream",
     "text": [
      "Buddy added to the kennel.\n",
      "Max added to the kennel.\n",
      "Bella added to the kennel.\n",
      "Oldest dog: Bella\n",
      "Labradors: ['Buddy', 'Bella']\n"
     ]
    }
   ],
   "source": [
    "#Improved Code\n",
    "\n",
    "class Dog:\n",
    "    def __init__(self, name, age, breed):\n",
    "        self.name = name\n",
    "        self.age = age\n",
    "        self.breed = breed\n",
    "\n",
    "    def bark(self):\n",
    "        print(f\"{self.name} says: Woof!\")\n",
    "\n",
    "class Kennel:\n",
    "    def __init__(self):\n",
    "        self.dogs = []\n",
    "\n",
    "    def add_dog(self, dog):\n",
    "        self.dogs.append(dog)\n",
    "        print(f\"{dog.name} added to the kennel.\")\n",
    "\n",
    "    def remove_dog(self, dog_name):\n",
    "        for i in range(len(self.dogs)):\n",
    "            if self.dogs[i].name == dog_name:\n",
    "                removed = self.dogs.pop(i)\n",
    "                print(f\"{removed.name} removed from the kennel.\")\n",
    "                return\n",
    "        print(f\"No dog named {dog_name} found.\")\n",
    "\n",
    "    def oldest_dog(self):\n",
    "        if not self.dogs:\n",
    "            return None\n",
    "        oldest = self.dogs[0]\n",
    "        for dog in self.dogs:\n",
    "            if dog.age > oldest.age:\n",
    "                oldest = dog\n",
    "        return oldest\n",
    "\n",
    "    def find_by_breed(self, breed):\n",
    "        breed_list = []\n",
    "        for dog in self.dogs:\n",
    "            if dog.breed == breed:\n",
    "                breed_list.append(dog)\n",
    "        return breed_list\n",
    "\n",
    "if __name__ == \"__main__\":\n",
    "    dog1 = Dog(\"Buddy\", 5, \"Labrador\")\n",
    "    dog2 = Dog(\"Max\", 3, \"Beagle\")\n",
    "    dog3 = Dog(\"Bella\", 7, \"Labrador\")\n",
    "\n",
    "    kennel = Kennel()\n",
    "    kennel.add_dog(dog1)\n",
    "    kennel.add_dog(dog2)\n",
    "    kennel.add_dog(dog3)\n",
    "\n",
    "    oldest = kennel.oldest_dog()\n",
    "    if oldest:\n",
    "        print(\"Oldest dog:\", oldest.name)\n",
    "\n",
    "    labs = kennel.find_by_breed(\"Labrador\")\n",
    "    print(\"Labradors:\", [d.name for d in labs])"
   ]
  },
  {
   "cell_type": "markdown",
   "id": "18fc79b7-1455-4cf5-86b5-6c6eced2a4ba",
   "metadata": {},
   "source": [
    "## Q9: Modules and Packages"
   ]
  },
  {
   "cell_type": "markdown",
   "id": "b44e2e34-033a-4840-bdc0-1c840b7aaa3e",
   "metadata": {},
   "source": [
    "Task 2:\n",
    "\n",
    "Helpers. Create a package helpers/ with modules\n",
    "string_utils.py (function shout(s) uppercases) and math_utils.py (function area(l,w)).\n",
    "Then a main.py that imports with both import ... as ... and from ...\n",
    "import .... Explain namespace collisions and why aliases help. Anchor concepts: modules, packages, import variations, namespaces. Reference: :contentReference[oaicite:15]index=15\n",
    "\n",
    "Prompt:\n",
    "\n",
    "Create a package helpers/ with modules string_utils.py (shout(s)) and math_utils.py (area(l, w)), then main.py showing import variations and aliasing."
   ]
  },
  {
   "cell_type": "code",
   "execution_count": null,
   "id": "e0512bbe-cdec-4d49-91c8-20ae4bd60b05",
   "metadata": {},
   "outputs": [],
   "source": [
    "#ChatGPT Code\n",
    "\n",
    "helpers/string_utils.py\n",
    "def shout(s):\n",
    "    return s.upper()\n",
    "    \n",
    "helpers/math_utils.py\n",
    "def area(l, w):\n",
    "    return l * w\n",
    "\n",
    "#main.py\n",
    "from helpers.string_utils import shout\n",
    "from helpers.math_utils import area\n",
    "\n",
    "print(shout('thank you'))\n",
    "print(area(5,3))"
   ]
  },
  {
   "cell_type": "markdown",
   "id": "917edf0d-454d-4a17-a83c-a374eaa3d975",
   "metadata": {},
   "source": [
    "Critique:\n",
    "\n",
    "Correctness: The code works as intended. shout converts text to uppercase, and area correctly calculates the rectangle area.\n",
    "\n",
    "Complexity: Very efficient; both functions run in O(1) time and use minimal memory.\n",
    "\n",
    "Robustness: Works for valid inputs. Could fail or give unexpected results if shout receives a non-string or area receives non-numeric values.\n",
    "\n",
    "Readability: Clean and simple. Function names are descriptive, and the main script clearly shows how to use them.\n",
    "\n",
    "Faithfulness: Follows standard Python practices and aligns with what we’ve learned about organizing code into modules and importing functions."
   ]
  },
  {
   "cell_type": "code",
   "execution_count": 14,
   "id": "a0e4d9ae-56f1-4f3f-91be-41424b6bd9f5",
   "metadata": {},
   "outputs": [
    {
     "name": "stdout",
     "output_type": "stream",
     "text": [
      "THANK YOU\n",
      "15\n"
     ]
    }
   ],
   "source": [
    "#Improved Code\n",
    "\n",
    "from helpers.string_utils import shout\n",
    "from helpers.math_utils import area\n",
    "\n",
    "print(shout('thank you'))\n",
    "print(area(5, 3))"
   ]
  },
  {
   "cell_type": "markdown",
   "id": "5ca9d6ce-503c-4117-8f17-549179c79c07",
   "metadata": {},
   "source": [
    "## Q10. Robust Temperature Converter (Functions + Exceptions)"
   ]
  },
  {
   "cell_type": "markdown",
   "id": "aaffe6fe-bda0-42d1-8214-aaa35904f45c",
   "metadata": {},
   "source": [
    "Task 2:\n",
    "\n",
    "Write two functions: cel_to_far(c) and far_to_cel(f) with type hints and docstrings. Build a\n",
    "CLI that asks the user which direction to convert and validates input (gracefully\n",
    "handles bad entries). Include unit tests (doctest or simple asserts) covering typical\n",
    "and edge cases (e.g., -40). Anchor concepts: writing functions, control flow, input\n",
    "handling, testing.\n",
    "\n",
    "Prompt:\n",
    "\n",
    "Write cel_to_far(c: float) -> float and far_to_cel(f: float) -> float with docstrings and type hints. Build a CLI asking which conversion to perform. Validate input and handle errors gracefully. Include tests covering typical and edge cases"
   ]
  },
  {
   "cell_type": "code",
   "execution_count": 36,
   "id": "27e4126b-3d90-4412-9cc6-b143921b8a7f",
   "metadata": {},
   "outputs": [
    {
     "name": "stdin",
     "output_type": "stream",
     "text": [
      "Convert to (C)elsius or (F)ahrenheit? (Q to quit):  23\n"
     ]
    },
    {
     "name": "stdout",
     "output_type": "stream",
     "text": [
      "Invalid choice, try again.\n"
     ]
    },
    {
     "name": "stdin",
     "output_type": "stream",
     "text": [
      "Convert to (C)elsius or (F)ahrenheit? (Q to quit):  4\n"
     ]
    },
    {
     "name": "stdout",
     "output_type": "stream",
     "text": [
      "Invalid choice, try again.\n"
     ]
    },
    {
     "name": "stdin",
     "output_type": "stream",
     "text": [
      "Convert to (C)elsius or (F)ahrenheit? (Q to quit):  F\n",
      "Enter the temperature:  23\n"
     ]
    },
    {
     "name": "stdout",
     "output_type": "stream",
     "text": [
      "23.0 C = 73.40 F\n"
     ]
    },
    {
     "name": "stdin",
     "output_type": "stream",
     "text": [
      "Convert to (C)elsius or (F)ahrenheit? (Q to quit):  C\n",
      "Enter the temperature:  2\n"
     ]
    },
    {
     "name": "stdout",
     "output_type": "stream",
     "text": [
      "2.0 F = -16.67 C\n"
     ]
    },
    {
     "name": "stdin",
     "output_type": "stream",
     "text": [
      "Convert to (C)elsius or (F)ahrenheit? (Q to quit):  q\n"
     ]
    },
    {
     "name": "stdout",
     "output_type": "stream",
     "text": [
      "Exiting.\n"
     ]
    }
   ],
   "source": [
    "#ChatGPT Code\n",
    "\n",
    "def cel_to_far(c: float) -> float:\n",
    "    \"\"\"\n",
    "    Convert Celsius to Fahrenheit.\n",
    "    \n",
    "    >>> cel_to_far(0)\n",
    "    32.0\n",
    "    >>> cel_to_far(-40)\n",
    "    -40.0\n",
    "    \"\"\"\n",
    "    return c * 9 / 5 + 32\n",
    "\n",
    "def far_to_cel(f: float) -> float:\n",
    "    \"\"\"\n",
    "    Convert Fahrenheit to Celsius.\n",
    "    \n",
    "    >>> far_to_cel(32)\n",
    "    0.0\n",
    "    >>> far_to_cel(-40)\n",
    "    -40.0\n",
    "    \"\"\"\n",
    "    return (f - 32) * 5 / 9\n",
    "\n",
    "def main():\n",
    "    while True:\n",
    "        choice = input(\"Convert to (C)elsius or (F)ahrenheit? (Q to quit): \").strip().upper()\n",
    "        if choice == \"Q\":\n",
    "            print(\"Exiting.\")\n",
    "            break\n",
    "        if choice not in (\"C\", \"F\"):\n",
    "            print(\"Invalid choice, try again.\")\n",
    "            continue\n",
    "        try:\n",
    "            temp = float(input(\"Enter the temperature: \"))\n",
    "        except ValueError:\n",
    "            print(\"Invalid number, try again.\")\n",
    "            continue\n",
    "        if choice == \"C\":\n",
    "            print(f\"{temp} F = {far_to_cel(temp):.2f} C\")\n",
    "        else:\n",
    "            print(f\"{temp} C = {cel_to_far(temp):.2f} F\")\n",
    "\n",
    "if __name__ == \"__main__\":\n",
    "    import doctest\n",
    "    doctest.testmod()  # run doctests\n",
    "    main()\n"
   ]
  },
  {
   "cell_type": "markdown",
   "id": "0232470b-5e24-45b1-bee3-c2d65372b4ae",
   "metadata": {},
   "source": [
    "Critique:\n",
    "\n",
    "Correctness: The functions correctly convert Celsius to Fahrenheit and vice versa. The interactive main() loop works as expected and handles quitting. Doctests also verify the conversions.\n",
    "\n",
    "Complexity: Very efficient; all calculations are O(1) with minimal memory usage.\n",
    "\n",
    "Robustness: Handles invalid inputs with checks for invalid choices and non-numeric values. Loop continues until the user quits.\n",
    "\n",
    "Readability: Code is well-structured and easy to follow. Function names are descriptive, docstrings and doctests clearly explain expected behavior, and main() separates logic from function definitions.\n",
    "\n",
    "Faithfulness: Follows Python best practices, uses type hints, doctests, and proper input validation, consistent with good coding standards."
   ]
  },
  {
   "cell_type": "code",
   "execution_count": 24,
   "id": "726fce7d-8a87-43b1-8ba1-56cb514bd6ce",
   "metadata": {},
   "outputs": [
    {
     "name": "stdin",
     "output_type": "stream",
     "text": [
      "Convert to (C)elsius or (F)ahrenheit? (Q to quit):  C\n",
      "Enter the temperature:  34\n"
     ]
    },
    {
     "name": "stdout",
     "output_type": "stream",
     "text": [
      "34.0 F = 1.11 C\n",
      "\n"
     ]
    },
    {
     "name": "stdin",
     "output_type": "stream",
     "text": [
      "Convert to (C)elsius or (F)ahrenheit? (Q to quit):  Q\n"
     ]
    },
    {
     "name": "stdout",
     "output_type": "stream",
     "text": [
      "Exiting.\n"
     ]
    }
   ],
   "source": [
    "#Improved Code\n",
    "\n",
    "def cel_to_far(c: float) -> float:\n",
    "    return c * 9 / 5 + 32\n",
    "\n",
    "def far_to_cel(f: float) -> float:\n",
    "    return (f - 32) * 5 / 9\n",
    "\n",
    "def main():\n",
    "    while True:\n",
    "        choice = input(\"Convert to (C)elsius or (F)ahrenheit? (Q to quit): \").strip().upper()\n",
    "        if choice == \"Q\":\n",
    "            print(\"Exiting.\")\n",
    "            break\n",
    "        if choice not in (\"C\", \"F\"):\n",
    "            print(\"Invalid choice, try again.\")\n",
    "            continue\n",
    "\n",
    "        temp_input = input(\"Enter the temperature: \")\n",
    "        try:\n",
    "            temp = float(temp_input)\n",
    "        except ValueError:\n",
    "            print(\"Invalid number, try again.\\n\")\n",
    "            continue\n",
    "\n",
    "        if choice == \"C\":\n",
    "            converted = far_to_cel(temp)\n",
    "            print(f\"{temp} F = {converted:.2f} C\\n\")\n",
    "        else:\n",
    "            converted = cel_to_far(temp)\n",
    "            print(f\"{temp} C = {converted:.2f} F\\n\")\n",
    "\n",
    "assert cel_to_far(0) == 32.0\n",
    "assert cel_to_far(-40) == -40.0\n",
    "assert far_to_cel(32) == 0.0\n",
    "assert far_to_cel(-40) == -40.0\n",
    "assert round(cel_to_far(100), 2) == 212.0\n",
    "assert round(far_to_cel(212), 2) == 100.0\n",
    "\n",
    "if __name__ == \"__main__\":\n",
    "    main()"
   ]
  }
 ],
 "metadata": {
  "kernelspec": {
   "display_name": "Python [conda env:base] *",
   "language": "python",
   "name": "conda-base-py"
  },
  "language_info": {
   "codemirror_mode": {
    "name": "ipython",
    "version": 3
   },
   "file_extension": ".py",
   "mimetype": "text/x-python",
   "name": "python",
   "nbconvert_exporter": "python",
   "pygments_lexer": "ipython3",
   "version": "3.13.5"
  }
 },
 "nbformat": 4,
 "nbformat_minor": 5
}
