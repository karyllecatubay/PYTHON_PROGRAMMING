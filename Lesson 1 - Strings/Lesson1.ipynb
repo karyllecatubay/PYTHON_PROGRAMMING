{
 "cells": [
  {
   "cell_type": "markdown",
   "id": "6bf64a53-db79-4bd2-95b9-9f0559fb929f",
   "metadata": {},
   "source": [
    "# Review Question #1"
   ]
  },
  {
   "cell_type": "code",
   "execution_count": 1,
   "id": "7e6396e6-37a9-48bb-b3fd-827723042ac9",
   "metadata": {},
   "outputs": [
    {
     "name": "stdout",
     "output_type": "stream",
     "text": [
      "6\n"
     ]
    }
   ],
   "source": [
    "text = \"python\"\n",
    "print(len(text))"
   ]
  },
  {
   "cell_type": "code",
   "execution_count": 82,
   "id": "e953e9ee-6184-4c6d-99f0-3f758dd3fa09",
   "metadata": {},
   "outputs": [
    {
     "name": "stdout",
     "output_type": "stream",
     "text": [
      "myText\n"
     ]
    }
   ],
   "source": [
    "first_text = \"Hello\"\n",
    "second_text = \"Karylle\"\n",
    "final_text = first_text + second_text\n",
    "print(final_text)"
   ]
  },
  {
   "cell_type": "code",
   "execution_count": 2,
   "id": "dedb4054-fe4d-47ff-abc8-5f8755261cb0",
   "metadata": {},
   "outputs": [
    {
     "name": "stdout",
     "output_type": "stream",
     "text": [
      "Hello World\n"
     ]
    }
   ],
   "source": [
    "text1 = \"Hello\"\n",
    "text2 = \"World\"\n",
    "final_text = text1 + \" \" + text2\n",
    "print(final_text)"
   ]
  },
  {
   "cell_type": "code",
   "execution_count": 14,
   "id": "fdb81b56-315e-401b-9f6f-afbd9e85049e",
   "metadata": {},
   "outputs": [
    {
     "name": "stdout",
     "output_type": "stream",
     "text": [
      "fox\n"
     ]
    }
   ],
   "source": [
    "string = \"The quick brown fox jumped over the lazy dog. #1234567890!\"\n",
    "print(string[16:19])"
   ]
  },
  {
   "cell_type": "markdown",
   "id": "0850a913-6785-48d2-8430-973773bbab04",
   "metadata": {},
   "source": [
    "# Review Question #2"
   ]
  },
  {
   "cell_type": "code",
   "execution_count": 17,
   "id": "192e4666-b2c0-4732-8a8d-c2fb61cd2cca",
   "metadata": {},
   "outputs": [
    {
     "name": "stdout",
     "output_type": "stream",
     "text": [
      "animals\n",
      "badger\n",
      "honey bee\n",
      "honeybadger\n"
     ]
    }
   ],
   "source": [
    "print(\"Animals\".lower())\n",
    "print(\"Badger\".lower())\n",
    "print(\"Honey Bee\".lower())\n",
    "print(\"Honeybadger\".lower())"
   ]
  },
  {
   "cell_type": "code",
   "execution_count": 18,
   "id": "8f7d0f69-8023-4d62-b89f-42065769ebbf",
   "metadata": {},
   "outputs": [
    {
     "name": "stdout",
     "output_type": "stream",
     "text": [
      "ANIMALS\n",
      "BADGER\n",
      "HONEY BEE\n",
      "HONEYBADGER\n"
     ]
    }
   ],
   "source": [
    "print(\"Animals\".upper())\n",
    "print(\"Badger\".upper())\n",
    "print(\"Honey Bee\".upper())\n",
    "print(\"Honeybadger\".upper())"
   ]
  },
  {
   "cell_type": "code",
   "execution_count": 84,
   "id": "d2cc0e2a-2d96-4765-9cde-3daa76cad904",
   "metadata": {},
   "outputs": [
    {
     "name": "stdout",
     "output_type": "stream",
     "text": [
      "Filet Mignon\n",
      "Brisket\n"
     ]
    }
   ],
   "source": [
    "string1 = \" Filet Mignon\"\n",
    "string2 = \"Brisket \"\n",
    "string1_stripped = string1.lstrip()\n",
    "string2_stripped = string2.rstrip()\n",
    "print(string1_stripped)\n",
    "print(string2_stripped)"
   ]
  },
  {
   "cell_type": "code",
   "execution_count": 26,
   "id": "ffdc0790-f9b8-49d1-a52e-f027d7836cb2",
   "metadata": {},
   "outputs": [
    {
     "name": "stdout",
     "output_type": "stream",
     "text": [
      "False\n",
      "True\n"
     ]
    }
   ],
   "source": [
    "string1 = \"Becomes\"\n",
    "string2 = \"becomes\"\n",
    "print(string1.startswith(\"be\"))\n",
    "print(string2.startswith(\"be\"))"
   ]
  },
  {
   "cell_type": "code",
   "execution_count": 31,
   "id": "c431d739-ef1e-4f74-af30-09ee009e83ca",
   "metadata": {},
   "outputs": [
    {
     "name": "stdout",
     "output_type": "stream",
     "text": [
      "True\n",
      "True\n"
     ]
    }
   ],
   "source": [
    "string1 = \"Becomes\"\n",
    "string2 = \"becomes\"\n",
    "string1 = string1.lower()\n",
    "string2 = string2.lower()\n",
    "print(string1.startswith(\"be\"))\n",
    "print(string2.startswith(\"be\"))"
   ]
  },
  {
   "cell_type": "markdown",
   "id": "2b642594-fe00-4031-aee9-afd091a75e9f",
   "metadata": {},
   "source": [
    "# Review Question #3"
   ]
  },
  {
   "cell_type": "code",
   "execution_count": 7,
   "id": "ca223a0f-def1-4813-95ef-aece889a7ec4",
   "metadata": {},
   "outputs": [
    {
     "name": "stdin",
     "output_type": "stream",
     "text": [
      "Please enter something:  karylle\n"
     ]
    },
    {
     "name": "stdout",
     "output_type": "stream",
     "text": [
      "You entered: karylle\n"
     ]
    }
   ],
   "source": [
    "user_input = input(\"Please enter something: \")\n",
    "print(f\"You entered: {user_input}\")"
   ]
  },
  {
   "cell_type": "code",
   "execution_count": 6,
   "id": "87a04fa3-2b6c-4a5b-a3a3-ca70c0fc064b",
   "metadata": {},
   "outputs": [
    {
     "name": "stdin",
     "output_type": "stream",
     "text": [
      "Please enter some text:  Wakaranai\n"
     ]
    },
    {
     "name": "stdout",
     "output_type": "stream",
     "text": [
      "Your input in lowercase: wakaranai\n"
     ]
    }
   ],
   "source": [
    "user_input = input(\"Please enter some text: \")\n",
    "lowercase_text = user_input.lower()\n",
    "print(\"Your input in lowercase:\", lowercase_text)"
   ]
  },
  {
   "cell_type": "code",
   "execution_count": 5,
   "id": "eb16ad3c-457a-4015-ada5-a6c5c76e0bf2",
   "metadata": {},
   "outputs": [
    {
     "name": "stdin",
     "output_type": "stream",
     "text": [
      "Enter something:  python programming\n"
     ]
    },
    {
     "name": "stdout",
     "output_type": "stream",
     "text": [
      "Number of characters entered: 18\n"
     ]
    }
   ],
   "source": [
    "user_input = input(\"Enter something: \")\n",
    "num_characters = len(user_input)\n",
    "print(\"Number of characters entered:\", num_characters)"
   ]
  },
  {
   "cell_type": "markdown",
   "id": "46f98a57-87af-4b3a-9d9d-fc41f43ae287",
   "metadata": {},
   "source": [
    "# Review Question #4"
   ]
  },
  {
   "cell_type": "code",
   "execution_count": 8,
   "id": "049476ab-9e60-4411-b85f-33471a85d2ce",
   "metadata": {},
   "outputs": [
    {
     "name": "stdin",
     "output_type": "stream",
     "text": [
      "Tell me your name:  Karylle\n"
     ]
    },
    {
     "name": "stdout",
     "output_type": "stream",
     "text": [
      "The first letter of the user's name:  K\n",
      "First letter converted to uppercase:  Karylle\n"
     ]
    }
   ],
   "source": [
    "username = input(\"Tell me your name: \")\n",
    "username_first_letter = username[0:1]\n",
    "print(\"The first letter of the user's name: \", username_first_letter) \n",
    "print(\"First letter converted to uppercase: \", username.capitalize())"
   ]
  },
  {
   "cell_type": "markdown",
   "id": "04e1e932-819b-4247-8fca-bacb1cde16ac",
   "metadata": {},
   "source": [
    "# Review Question #5"
   ]
  },
  {
   "cell_type": "code",
   "execution_count": 42,
   "id": "45b75129-4783-4a05-805f-93304369020a",
   "metadata": {},
   "outputs": [
    {
     "name": "stdout",
     "output_type": "stream",
     "text": [
      "Test:  10\n"
     ]
    }
   ],
   "source": [
    "integer_string = \"5\"\n",
    "actual_integer = int(integer_string)\n",
    "print(\"Test: \", actual_integer * 2)"
   ]
  },
  {
   "cell_type": "code",
   "execution_count": 46,
   "id": "c27b5c2e-598d-4525-bed4-7e58ad1a3ef8",
   "metadata": {},
   "outputs": [
    {
     "name": "stdout",
     "output_type": "stream",
     "text": [
      "Test:  13.75\n"
     ]
    }
   ],
   "source": [
    "float_string = \"5.5\"\n",
    "actual_float = float(float_string)\n",
    "print(\"Test: \", actual_float * 2.5)"
   ]
  },
  {
   "cell_type": "code",
   "execution_count": 10,
   "id": "9da09260-83dc-4514-8c68-fe7714234c49",
   "metadata": {},
   "outputs": [
    {
     "name": "stdout",
     "output_type": "stream",
     "text": [
      "Age: 34\n"
     ]
    }
   ],
   "source": [
    "my_string = \"Age:\"\n",
    "my_int = 34\n",
    "print(my_string + \" \" + str(my_int))"
   ]
  },
  {
   "cell_type": "code",
   "execution_count": 12,
   "id": "75ef8dd4-069b-46cf-ba05-b5cc9977bcfc",
   "metadata": {},
   "outputs": [
    {
     "name": "stdin",
     "output_type": "stream",
     "text": [
      "Enter the first number:  24\n",
      "Enter the second number:  12\n"
     ]
    },
    {
     "name": "stdout",
     "output_type": "stream",
     "text": [
      "The result of multiplication is: 288.0\n"
     ]
    }
   ],
   "source": [
    "num1 = float(input(\"Enter the first number: \"))\n",
    "num2 = float(input(\"Enter the second number: \"))\n",
    "result = num1 * num2\n",
    "print(\"The result of multiplication is:\", result)"
   ]
  },
  {
   "cell_type": "markdown",
   "id": "82075129-f9a6-481f-9d76-8af06aadb878",
   "metadata": {},
   "source": [
    "# Review Question #6"
   ]
  },
  {
   "cell_type": "code",
   "execution_count": 57,
   "id": "6e729ebb-917c-4f5a-b6dd-7c2ec3fe3cb0",
   "metadata": {},
   "outputs": [
    {
     "name": "stdout",
     "output_type": "stream",
     "text": [
      "-1\n"
     ]
    }
   ],
   "source": [
    "print(\"AAA\".find(\"a\"))"
   ]
  },
  {
   "cell_type": "code",
   "execution_count": 13,
   "id": "dbe69dbd-f3fe-47fa-af25-4327fd9bae14",
   "metadata": {},
   "outputs": [
    {
     "name": "stdout",
     "output_type": "stream",
     "text": [
      "somebody said something to samantha.\n"
     ]
    }
   ],
   "source": [
    "text = \"Somebody said something to Samantha.\"\n",
    "modified_text = text.lower()\n",
    "text = text.replace(\"s\",\"y\")\n",
    "print(modified_text)"
   ]
  },
  {
   "cell_type": "code",
   "execution_count": 14,
   "id": "f029dd4e-620a-46ee-9c96-b8e316b82572",
   "metadata": {},
   "outputs": [
    {
     "name": "stdin",
     "output_type": "stream",
     "text": [
      "Enter string input:  java\n",
      "Enter a letter to find in the previous string input:  j\n"
     ]
    },
    {
     "name": "stdout",
     "output_type": "stream",
     "text": [
      "The letter is found in index 0 of the string\n"
     ]
    }
   ],
   "source": [
    "string = input(\"Enter string input: \")\n",
    "particular_letter = input(\"Enter a letter to find in the previous string input: \")\n",
    "print(\"The letter is found in index \" + str(string.find(particular_letter)) + \" of the string\")"
   ]
  },
  {
   "cell_type": "markdown",
   "id": "a94e3c57-4b2e-4828-acbf-8a2574e2ad38",
   "metadata": {},
   "source": [
    "# Review Question #7"
   ]
  },
  {
   "cell_type": "code",
   "execution_count": 73,
   "id": "03599d10-823c-46e2-8406-16a035eef353",
   "metadata": {},
   "outputs": [
    {
     "name": "stdin",
     "output_type": "stream",
     "text": [
      "Enter some text:  I like to eat eggs and spam.\n"
     ]
    },
    {
     "name": "stdout",
     "output_type": "stream",
     "text": [
      "Your text converted to leetspeak:  I 1ik3 70 347 3gg5 4nd 5p4m.\n"
     ]
    }
   ],
   "source": [
    "string = input(\"Enter some text: \")\n",
    "string = string.replace(\"a\", \"4\")\n",
    "string = string.replace(\"b\", \"8\")\n",
    "string = string.replace(\"e\", \"3\")\n",
    "string = string.replace(\"l\", \"1\")\n",
    "string = string.replace(\"o\", \"0\")\n",
    "string = string.replace(\"s\", \"5\")\n",
    "string = string.replace(\"t\", \"7\")\n",
    "print(\"Your text converted to leetspeak: \", string)"
   ]
  }
 ],
 "metadata": {
  "kernelspec": {
   "display_name": "Python [conda env:base] *",
   "language": "python",
   "name": "conda-base-py"
  },
  "language_info": {
   "codemirror_mode": {
    "name": "ipython",
    "version": 3
   },
   "file_extension": ".py",
   "mimetype": "text/x-python",
   "name": "python",
   "nbconvert_exporter": "python",
   "pygments_lexer": "ipython3",
   "version": "3.13.5"
  }
 },
 "nbformat": 4,
 "nbformat_minor": 5
}
