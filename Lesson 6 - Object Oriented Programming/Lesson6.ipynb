{
 "cells": [
  {
   "cell_type": "markdown",
   "id": "397051a8-e21f-4e88-8d43-07a39ad6aef1",
   "metadata": {},
   "source": [
    "# Lesson 6 - Object Oriented Programming"
   ]
  },
  {
   "cell_type": "markdown",
   "id": "5eb32069-62ac-434f-adac-5cdc5aa9ba3e",
   "metadata": {},
   "source": [
    "## Review Exercises 1"
   ]
  },
  {
   "cell_type": "code",
   "execution_count": 1,
   "id": "cce1638f-d724-466c-84bf-522cd2b212e6",
   "metadata": {},
   "outputs": [
    {
     "name": "stdout",
     "output_type": "stream",
     "text": [
      "Philo's coat is brown.\n"
     ]
    }
   ],
   "source": [
    "class Dog:\n",
    "    def __init__(self, name, age, coat_color):\n",
    "        self.name = name\n",
    "        self.age = age\n",
    "        self.coat_color = coat_color\n",
    "\n",
    "philo = Dog(\"Philo\", 5, \"brown\")\n",
    "\n",
    "print(f\"{philo.name}'s coat is {philo.coat_color}.\")\n"
   ]
  },
  {
   "cell_type": "code",
   "execution_count": 2,
   "id": "769f1178-402f-4724-a52f-0e390364e6e2",
   "metadata": {},
   "outputs": [
    {
     "name": "stdout",
     "output_type": "stream",
     "text": [
      "The blue car has 20,000 miles.\n",
      "The red car has 30,000 miles.\n"
     ]
    }
   ],
   "source": [
    "class Car:\n",
    "    def __init__(self, color, mileage):\n",
    "        self.color = color\n",
    "        self.mileage = mileage\n",
    "\n",
    "blue_car = Car(\"blue\", 20000)\n",
    "red_car = Car(\"red\", 30000)\n",
    "\n",
    "print(f\"The {blue_car.color} car has {blue_car.mileage:,} miles.\")\n",
    "print(f\"The {red_car.color} car has {red_car.mileage:,} miles.\")\n"
   ]
  },
  {
   "cell_type": "code",
   "execution_count": 3,
   "id": "f0da4b20-9c75-4519-9e08-5ccb437b3e7f",
   "metadata": {},
   "outputs": [
    {
     "name": "stdout",
     "output_type": "stream",
     "text": [
      "The car has 100 miles.\n"
     ]
    }
   ],
   "source": [
    "class Car:\n",
    "    def __init__(self, color, mileage):\n",
    "        self.color = color\n",
    "        self.mileage = mileage\n",
    "\n",
    "    def drive(self, miles):\n",
    "        self.mileage += miles\n",
    "\n",
    "my_car = Car(\"black\", 0)   \n",
    "my_car.drive(100)      \n",
    "\n",
    "print(f\"The car has {my_car.mileage} miles.\")\n"
   ]
  },
  {
   "cell_type": "markdown",
   "id": "970cd8f1-b535-4e39-a467-92f3f4c74c0c",
   "metadata": {},
   "source": [
    "## Review Exercises 2"
   ]
  },
  {
   "cell_type": "code",
   "execution_count": 4,
   "id": "8abe67d2-520d-461f-8bc3-10e3eeacdc45",
   "metadata": {},
   "outputs": [
    {
     "name": "stdout",
     "output_type": "stream",
     "text": [
      "Buddy is 3 years old\n",
      "Buddy says Bark\n",
      "Buddy says Woof\n"
     ]
    }
   ],
   "source": [
    "class Dog:\n",
    "    species = \"Canis familiaris\"\n",
    "\n",
    "    def __init__(self, name, age):\n",
    "        self.name = name\n",
    "        self.age = age\n",
    "\n",
    "    def __str__(self):\n",
    "        return f\"{self.name} is {self.age} years old\"\n",
    "\n",
    "    def speak(self, sound):\n",
    "        return f\"{self.name} says {sound}\"\n",
    "\n",
    "\n",
    "class GoldenRetriever(Dog):\n",
    "    def speak(self, sound=\"Bark\"):\n",
    "        return super().speak(sound)\n",
    "\n",
    "\n",
    "golden = GoldenRetriever(\"Buddy\", 3)\n",
    "\n",
    "print(golden)                 \n",
    "print(golden.speak())         \n",
    "print(golden.speak(\"Woof\"))   \n"
   ]
  },
  {
   "cell_type": "code",
   "execution_count": 5,
   "id": "95ef996d-38da-4773-971b-203ba505bb93",
   "metadata": {},
   "outputs": [
    {
     "name": "stdout",
     "output_type": "stream",
     "text": [
      "Area of the square: 16\n"
     ]
    }
   ],
   "source": [
    "class Rectangle:\n",
    "    def __init__(self, length, width):\n",
    "        self.length = length\n",
    "        self.width = width\n",
    "\n",
    "    def area(self):\n",
    "        return self.length * self.width\n",
    "\n",
    "\n",
    "class Square(Rectangle):\n",
    "    def __init__(self, side_length):\n",
    "        super().__init__(side_length, side_length)\n",
    "\n",
    "\n",
    "square = Square(4)\n",
    "print(\"Area of the square:\", square.area())\n"
   ]
  },
  {
   "cell_type": "markdown",
   "id": "c887ef33-e4a8-48e9-8942-2ae5d3d8a785",
   "metadata": {},
   "source": [
    "## CHALLENGE: Model A Farm"
   ]
  },
  {
   "cell_type": "code",
   "execution_count": 3,
   "id": "4c84bf93-3393-4644-b3d6-dc3bb9e30053",
   "metadata": {},
   "outputs": [
    {
     "name": "stdout",
     "output_type": "stream",
     "text": [
      "\n",
      "Buddy is a Dog, aged 3.\n",
      "Buddy is eating.\n",
      "Buddy is sleeping.\n",
      "Buddy the Golden Retriever barks: Woof! Woof!\n",
      "\n",
      "Whiskers is a Cat, aged 2.\n",
      "Whiskers is eating.\n",
      "Whiskers is sleeping.\n",
      "Whiskers the Black cat meows: Meow!\n",
      "\n",
      "Tweety is a Bird, aged 1.\n",
      "Tweety is eating.\n",
      "Tweety is sleeping.\n",
      "Tweety sings a beautiful song!\n"
     ]
    }
   ],
   "source": [
    "class Animal:\n",
    "    def __init__(self, name, age, species):\n",
    "        self.name = name\n",
    "        self.age = age\n",
    "        self.species = species\n",
    "\n",
    "    def eat(self):\n",
    "        print(f\"{self.name} is eating.\")\n",
    "\n",
    "    def sleep(self):\n",
    "        print(f\"{self.name} is sleeping.\")\n",
    "\n",
    "class Dog(Animal):\n",
    "    def __init__(self, name, age, breed):\n",
    "        super().__init__(name, age, \"Dog\")\n",
    "        self.breed = breed\n",
    "\n",
    "    def bark(self):\n",
    "        print(f\"{self.name} the {self.breed} barks: Woof! Woof!\")\n",
    "\n",
    "class Cat(Animal):\n",
    "    def __init__(self, name, age, color):\n",
    "        super().__init__(name, age, \"Cat\")\n",
    "        self.color = color\n",
    "\n",
    "    def meow(self):\n",
    "        print(f\"{self.name} the {self.color} cat meows: Meow!\")\n",
    "\n",
    "class Bird(Animal):\n",
    "    def __init__(self, name, age, can_fly=True):\n",
    "        super().__init__(name, age, \"Bird\")\n",
    "        self.can_fly = can_fly\n",
    "\n",
    "    def sing(self):\n",
    "        print(f\"{self.name} sings a beautiful song!\")\n",
    "\n",
    "# Creating instances and showing behaviors\n",
    "dog = Dog(\"Buddy\", 3, \"Golden Retriever\")\n",
    "cat = Cat(\"Whiskers\", 2, \"Black\")\n",
    "bird = Bird(\"Tweety\", 1)\n",
    "\n",
    "animals = [dog, cat, bird]\n",
    "\n",
    "for animal in animals:\n",
    "    print(f\"\\n{animal.name} is a {animal.species}, aged {animal.age}.\")\n",
    "    animal.eat()\n",
    "    animal.sleep()\n",
    "    # Call child-specific methods\n",
    "    if isinstance(animal, Dog):\n",
    "        animal.bark()\n",
    "    elif isinstance(animal, Cat):\n",
    "        animal.meow()\n",
    "    elif isinstance(animal, Bird):\n",
    "        animal.sing()\n"
   ]
  }
 ],
 "metadata": {
  "kernelspec": {
   "display_name": "Python [conda env:base] *",
   "language": "python",
   "name": "conda-base-py"
  },
  "language_info": {
   "codemirror_mode": {
    "name": "ipython",
    "version": 3
   },
   "file_extension": ".py",
   "mimetype": "text/x-python",
   "name": "python",
   "nbconvert_exporter": "python",
   "pygments_lexer": "ipython3",
   "version": "3.13.5"
  }
 },
 "nbformat": 4,
 "nbformat_minor": 5
}
