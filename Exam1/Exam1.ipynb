{
 "cells": [
  {
   "cell_type": "markdown",
   "id": "76c868b8-e567-445d-b6ea-7871e2716b85",
   "metadata": {},
   "source": [
    "# 1st Long Exam (09/10/2025)"
   ]
  },
  {
   "cell_type": "markdown",
   "id": "f9f6cd18-204e-40e8-8f3f-c7624a54968e",
   "metadata": {},
   "source": [
    "## Karylle Catubay ID: 21419890"
   ]
  },
  {
   "cell_type": "markdown",
   "id": "e53aa74d-82b8-4107-924d-5418f6676318",
   "metadata": {},
   "source": [
    "### Question 1"
   ]
  },
  {
   "cell_type": "code",
   "execution_count": 1,
   "id": "cfc2cba8-659d-4a2f-a814-ca2b9a54a270",
   "metadata": {},
   "outputs": [
    {
     "name": "stdin",
     "output_type": "stream",
     "text": [
      "Enter your name:  Karylle\n"
     ]
    },
    {
     "name": "stdout",
     "output_type": "stream",
     "text": [
      "Hello, Karylle!\n"
     ]
    }
   ],
   "source": [
    "name = input(\"Enter your name: \")\n",
    "print(f\"Hello, {name}!\")"
   ]
  },
  {
   "cell_type": "markdown",
   "id": "4268638e-df1a-4ecc-9f41-bdbebe93ebcc",
   "metadata": {},
   "source": [
    "### Question 2"
   ]
  },
  {
   "cell_type": "code",
   "execution_count": null,
   "id": "a8c7a05e-66f9-4425-a1ca-9cbc7acaa8dc",
   "metadata": {},
   "outputs": [],
   "source": [
    "n = int(input(\"Enter a positive integer:\"))\n",
    "if n > 0:\n",
    "    sum = 0\n",
    "    for i in range(1, n + 1):\n",
    "        sum += i\n",
    "    print(f\"The total sum is: {sum}\")\n",
    "else:\n",
    "    print(\"The number you entered is not a positive integer.\")"
   ]
  },
  {
   "cell_type": "markdown",
   "id": "08d334bf-4235-4190-b2e0-711efc4439b8",
   "metadata": {},
   "source": [
    "### Question 3"
   ]
  },
  {
   "cell_type": "code",
   "execution_count": 13,
   "id": "14f025b0-8e9b-4261-a5fa-7eb0e9928615",
   "metadata": {},
   "outputs": [
    {
     "name": "stdin",
     "output_type": "stream",
     "text": [
      "Enter a letter from the alphabet:  Y\n"
     ]
    },
    {
     "name": "stdout",
     "output_type": "stream",
     "text": [
      "Sometimes y is a vowel, and sometimes y is a consonant.\n"
     ]
    }
   ],
   "source": [
    "letter = input(\"Enter a letter from the alphabet: \")\n",
    "if letter.lower() in [\"a\", \"e\", \"i\", \"o\", \"u\"]:\n",
    "    print(\"The entered letter is a vowel.\")\n",
    "elif letter.lower() == \"y\":\n",
    "    print(\"Sometimes y is a vowel, and sometimes y is a consonant.\")\n",
    "else:\n",
    "    print(\"The entered letter is a consonant.\")"
   ]
  },
  {
   "cell_type": "code",
   "execution_count": 22,
   "id": "9e267a89-4c01-4dd3-9550-fa4dfcc44d57",
   "metadata": {},
   "outputs": [
    {
     "name": "stdin",
     "output_type": "stream",
     "text": [
      "Enter a word:  civic\n"
     ]
    },
    {
     "name": "stdout",
     "output_type": "stream",
     "text": [
      "The word you entered is a palindrome.\n"
     ]
    }
   ],
   "source": [
    "# Question 4:\n",
    "word = input(\"Enter a word: \")\n",
    "lowered_word = word.lower()\n",
    "word_length = len(lowered_word)\n",
    "isPalindrome = True\n",
    "for i in range(0, word_length):\n",
    "    if lowered_word[i] != lowered_word[word_length - 1 - i]:\n",
    "        isPalindrome = False\n",
    "\n",
    "if isPalindrome == True:\n",
    "    print(\"The word you entered is a palindrome.\")\n",
    "else:\n",
    "    print(\"The word you entered is not a palindrome.\")"
   ]
  },
  {
   "cell_type": "code",
   "execution_count": 24,
   "id": "180a1a78-8427-4ad4-9daf-a85caf2dc442",
   "metadata": {},
   "outputs": [
    {
     "name": "stdin",
     "output_type": "stream",
     "text": [
      "Enter side a:  4\n",
      "Enter side b:  4\n"
     ]
    },
    {
     "name": "stdout",
     "output_type": "stream",
     "text": [
      "The hypotenuse is 5.656854249492381\n"
     ]
    }
   ],
   "source": [
    "# Question 5:\n",
    "def calc_hypotenuse(a, b):\n",
    "    return ((a ** 2) + (b ** 2)) ** 0.5\n",
    "\n",
    "side_a = float(input(\"Enter side a: \"))\n",
    "side_b = float(input(\"Enter side b: \"))\n",
    "hypotenuse = calc_hypotenuse(side_a, side_b)\n",
    "print(f\"The hypotenuse is {hypotenuse}\")"
   ]
  }
 ],
 "metadata": {
  "kernelspec": {
   "display_name": "Python [conda env:base] *",
   "language": "python",
   "name": "conda-base-py"
  },
  "language_info": {
   "codemirror_mode": {
    "name": "ipython",
    "version": 3
   },
   "file_extension": ".py",
   "mimetype": "text/x-python",
   "name": "python",
   "nbconvert_exporter": "python",
   "pygments_lexer": "ipython3",
   "version": "3.13.5"
  }
 },
 "nbformat": 4,
 "nbformat_minor": 5
}
