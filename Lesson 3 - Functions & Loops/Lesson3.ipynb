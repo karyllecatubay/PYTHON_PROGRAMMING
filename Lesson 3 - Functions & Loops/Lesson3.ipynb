{
 "cells": [
  {
   "cell_type": "markdown",
   "id": "f31de2eb-5c12-4455-a216-6d9e5af0e4cb",
   "metadata": {},
   "source": [
    "# Lesson 3: Functions and Loops"
   ]
  },
  {
   "cell_type": "markdown",
   "id": "411a8f6a-697c-45f5-82f2-d3821ea5f0e8",
   "metadata": {},
   "source": [
    "## Review Question 1"
   ]
  },
  {
   "cell_type": "code",
   "execution_count": 4,
   "id": "4466a441-df0d-4520-857d-e2db3cdd426d",
   "metadata": {},
   "outputs": [
    {
     "name": "stdout",
     "output_type": "stream",
     "text": [
      "8\n",
      "27\n",
      "216\n"
     ]
    }
   ],
   "source": [
    "def cube(num):\n",
    "    return num ** 3\n",
    "\n",
    "print(cube(2))\n",
    "print(cube(3))\n",
    "print(cube(6))"
   ]
  },
  {
   "cell_type": "code",
   "execution_count": 6,
   "id": "9cc807c9-23ba-4e7c-94af-57919f1e69ba",
   "metadata": {},
   "outputs": [
    {
     "name": "stdout",
     "output_type": "stream",
     "text": [
      "Hello Karylle!\n"
     ]
    }
   ],
   "source": [
    "def greet(name):\n",
    "    print(f\"Hello {name}!\")\n",
    "\n",
    "greet(\"Karylle\")"
   ]
  },
  {
   "cell_type": "markdown",
   "id": "930cf747-3f9a-4f62-8c5d-6fa2a4f64ade",
   "metadata": {},
   "source": [
    "## CHALLENGE: CONVERT TEMPERATURES"
   ]
  },
  {
   "cell_type": "code",
   "execution_count": 7,
   "id": "4c1c09a8-98c2-4315-8b7a-d198c3f884cb",
   "metadata": {},
   "outputs": [
    {
     "name": "stdin",
     "output_type": "stream",
     "text": [
      "Enter a temperature in degrees C: 34\n"
     ]
    },
    {
     "name": "stdout",
     "output_type": "stream",
     "text": [
      "34 degrees C = 93.20 degrees F\n"
     ]
    }
   ],
   "source": [
    "def convert_cel_to_far(degreesCelc):\n",
    "    return degreesCelc * (9.0/5.0) + 32\n",
    "\n",
    "cel = float(input(\"Enter a temperature in degrees C:\"))\n",
    "converted_fahr = convert_cel_to_far(cel)\n",
    "print(f\"{cel:.0f} degrees C = {converted_fahr:.2f} degrees F\")"
   ]
  },
  {
   "cell_type": "code",
   "execution_count": 8,
   "id": "ee858b7e-5d1e-4a4b-be59-3d89d1144d69",
   "metadata": {},
   "outputs": [
    {
     "name": "stdin",
     "output_type": "stream",
     "text": [
      "Enter a temperature in degrees F: 23\n"
     ]
    },
    {
     "name": "stdout",
     "output_type": "stream",
     "text": [
      "23 degrees F = -5.00 degrees C\n"
     ]
    }
   ],
   "source": [
    "def convert_far_to_cel(degreesFahr):\n",
    "    return (degreesFahr - 32) * (5.0 / 9.0)\n",
    "\n",
    "fahr = int(input(\"Enter a temperature in degrees F:\"))\n",
    "converted_cel = convert_far_to_cel(fahr)\n",
    "print(f\"{fahr:.0f} degrees F = {converted_cel:.2f} degrees C\")"
   ]
  },
  {
   "cell_type": "markdown",
   "id": "a1602b7c-4d5f-4311-bd84-ffa759e8923e",
   "metadata": {},
   "source": [
    "## Review Question 2"
   ]
  },
  {
   "cell_type": "code",
   "execution_count": 41,
   "id": "b670f7c0-1e2d-48ea-8c34-b60c16ab845e",
   "metadata": {},
   "outputs": [
    {
     "name": "stdout",
     "output_type": "stream",
     "text": [
      "2\n",
      "3\n",
      "4\n",
      "5\n",
      "6\n",
      "7\n",
      "8\n",
      "9\n",
      "10\n"
     ]
    }
   ],
   "source": [
    "for i in range(2, 11):\n",
    "    print(i)"
   ]
  },
  {
   "cell_type": "code",
   "execution_count": 40,
   "id": "48cd43ea-9408-4c81-abd0-da99b529f5b4",
   "metadata": {},
   "outputs": [
    {
     "name": "stdout",
     "output_type": "stream",
     "text": [
      "2\n",
      "3\n",
      "4\n",
      "5\n",
      "6\n",
      "7\n",
      "8\n",
      "9\n",
      "10\n"
     ]
    }
   ],
   "source": [
    "i = 2\n",
    "while i <= 10:\n",
    "    print(i)\n",
    "    i += 1"
   ]
  },
  {
   "cell_type": "code",
   "execution_count": 42,
   "id": "b5fa5641-83b2-4601-82b7-76a8a60d2192",
   "metadata": {},
   "outputs": [
    {
     "name": "stdout",
     "output_type": "stream",
     "text": [
      "4\n",
      "8\n",
      "16\n"
     ]
    }
   ],
   "source": [
    "def doubles(num):\n",
    "    return num * 2\n",
    "\n",
    "two = 2\n",
    "for i in range(3):\n",
    "    two = doubles(two)\n",
    "    print(two)"
   ]
  }
 ],
 "metadata": {
  "kernelspec": {
   "display_name": "Python [conda env:base] *",
   "language": "python",
   "name": "conda-base-py"
  },
  "language_info": {
   "codemirror_mode": {
    "name": "ipython",
    "version": 3
   },
   "file_extension": ".py",
   "mimetype": "text/x-python",
   "name": "python",
   "nbconvert_exporter": "python",
   "pygments_lexer": "ipython3",
   "version": "3.13.5"
  }
 },
 "nbformat": 4,
 "nbformat_minor": 5
}
