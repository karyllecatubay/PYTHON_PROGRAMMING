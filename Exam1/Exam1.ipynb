{
 "cells": [
  {
   "cell_type": "markdown",
   "id": "76c868b8-e567-445d-b6ea-7871e2716b85",
   "metadata": {},
   "source": [
    "# 1st Long Exam (09/10/2025)"
   ]
  },
  {
   "cell_type": "markdown",
   "id": "f9f6cd18-204e-40e8-8f3f-c7624a54968e",
   "metadata": {},
   "source": [
    "## Karylle Catubay ID: 23745250"
   ]
  },
  {
   "cell_type": "markdown",
   "id": "e53aa74d-82b8-4107-924d-5418f6676318",
   "metadata": {},
   "source": [
    "### Question 1"
   ]
  },
  {
   "cell_type": "code",
   "execution_count": 1,
   "id": "cfc2cba8-659d-4a2f-a814-ca2b9a54a270",
   "metadata": {},
   "outputs": [
    {
     "name": "stdin",
     "output_type": "stream",
     "text": [
      "Enter your name:  Karylle\n"
     ]
    },
    {
     "name": "stdout",
     "output_type": "stream",
     "text": [
      "Hello, Karylle!\n"
     ]
    }
   ],
   "source": [
    "name = input(\"Enter your name: \")\n",
    "print(f\"Hello, {name}!\")"
   ]
  },
  {
   "cell_type": "markdown",
   "id": "4268638e-df1a-4ecc-9f41-bdbebe93ebcc",
   "metadata": {},
   "source": [
    "### Question 2"
   ]
  },
  {
   "cell_type": "code",
   "execution_count": 3,
   "id": "a8c7a05e-66f9-4425-a1ca-9cbc7acaa8dc",
   "metadata": {},
   "outputs": [
    {
     "name": "stdin",
     "output_type": "stream",
     "text": [
      "Enter a positive integer: 4\n"
     ]
    },
    {
     "name": "stdout",
     "output_type": "stream",
     "text": [
      "The total sum is: 10\n"
     ]
    }
   ],
   "source": [
    "n = int(input(\"Enter a positive integer:\"))\n",
    "if n > 0:\n",
    "    sum = 0\n",
    "    for i in range(1, n + 1):\n",
    "        sum += i\n",
    "    print(f\"The total sum is: {sum}\")\n",
    "else:\n",
    "    print(\"The number you entered is not a positive integer.\")"
   ]
  },
  {
   "cell_type": "markdown",
   "id": "08d334bf-4235-4190-b2e0-711efc4439b8",
   "metadata": {},
   "source": [
    "### Question 3"
   ]
  },
  {
   "cell_type": "code",
   "execution_count": 14,
   "id": "14f025b0-8e9b-4261-a5fa-7eb0e9928615",
   "metadata": {},
   "outputs": [
    {
     "name": "stdin",
     "output_type": "stream",
     "text": [
      "Enter a letter from the alphabet:  b\n"
     ]
    },
    {
     "name": "stdout",
     "output_type": "stream",
     "text": [
      "Consonant\n"
     ]
    }
   ],
   "source": [
    "letter = input(\"Enter a letter from the alphabet: \")\n",
    "if letter.lower() in [\"a\", \"e\", \"i\", \"o\", \"u\"]:\n",
    "    print(\"Vowel\")\n",
    "elif letter.lower() == \"y\":\n",
    "    print(\"Sometimes y is a vowel, and sometimes y is a consonant.\")\n",
    "else:\n",
    "    print(\"Consonant\")"
   ]
  },
  {
   "cell_type": "markdown",
   "id": "f7c7c58e-9462-407f-b1d5-3aa99cb5f06a",
   "metadata": {},
   "source": [
    "### Question 5"
   ]
  },
  {
   "cell_type": "code",
   "execution_count": 6,
   "id": "180a1a78-8427-4ad4-9daf-a85caf2dc442",
   "metadata": {},
   "outputs": [
    {
     "ename": "SyntaxError",
     "evalue": "invalid syntax (1885169875.py, line 1)",
     "output_type": "error",
     "traceback": [
      "\u001b[0;36m  Cell \u001b[0;32mIn[6], line 1\u001b[0;36m\u001b[0m\n\u001b[0;31m    def\u001b[0m\n\u001b[0m        ^\u001b[0m\n\u001b[0;31mSyntaxError\u001b[0m\u001b[0;31m:\u001b[0m invalid syntax\n"
     ]
    }
   ],
   "source": [
    "def "
   ]
  }
 ],
 "metadata": {
  "kernelspec": {
   "display_name": "Python [conda env:base] *",
   "language": "python",
   "name": "conda-base-py"
  },
  "language_info": {
   "codemirror_mode": {
    "name": "ipython",
    "version": 3
   },
   "file_extension": ".py",
   "mimetype": "text/x-python",
   "name": "python",
   "nbconvert_exporter": "python",
   "pygments_lexer": "ipython3",
   "version": "3.13.5"
  }
 },
 "nbformat": 4,
 "nbformat_minor": 5
}
