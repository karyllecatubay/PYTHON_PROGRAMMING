{
 "cells": [
  {
   "cell_type": "markdown",
   "id": "d373010f-3df0-46b5-a7d3-c7b50f2322f9",
   "metadata": {},
   "source": [
    "## Lesson 7: Modules and Packages"
   ]
  },
  {
   "cell_type": "markdown",
   "id": "2f2b17f4-8ffa-413c-9670-f0f8bc1b5b07",
   "metadata": {},
   "source": [
    "### Review Exercise 1"
   ]
  },
  {
   "cell_type": "code",
   "execution_count": 5,
   "id": "c139f6b6-e27c-4ab2-b7fe-85ea522faa21",
   "metadata": {},
   "outputs": [],
   "source": [
    "#1\n",
    "def greet(name):\n",
    "    print(f\"Hello {name}!\")"
   ]
  },
  {
   "cell_type": "code",
   "execution_count": 6,
   "id": "00c0b801-3dee-4f5d-97b1-918bf85e9ba3",
   "metadata": {},
   "outputs": [
    {
     "name": "stdout",
     "output_type": "stream",
     "text": [
      "Hello World!\n"
     ]
    }
   ],
   "source": [
    "#2\n",
    "greet(\"World\")"
   ]
  },
  {
   "cell_type": "markdown",
   "id": "720db365-fda9-4ea2-85af-8a9e114fc3c6",
   "metadata": {},
   "source": [
    "### Review Exercise 2"
   ]
  },
  {
   "cell_type": "code",
   "execution_count": 7,
   "id": "4e43ffff-0265-4b7f-a517-805f790508f2",
   "metadata": {},
   "outputs": [],
   "source": [
    "import os\n",
    "\n",
    "# Create package folder structure\n",
    "os.makedirs(\"package_exercises/helpers\", exist_ok=True)\n",
    "\n",
    "# Create empty __init__.py\n",
    "with open(\"package_exercises/helpers/__init__.py\", \"w\") as f:\n",
    "    pass"
   ]
  },
  {
   "cell_type": "code",
   "execution_count": 8,
   "id": "e3a76d20-36a1-4db9-8fc0-0f545b4258a3",
   "metadata": {},
   "outputs": [
    {
     "name": "stdout",
     "output_type": "stream",
     "text": [
      "Writing package_exercises/helpers/string.py\n"
     ]
    }
   ],
   "source": [
    "%%writefile package_exercises/helpers/string.py\n",
    "# 1 (continuation)\n",
    "def shout(text):\n",
    "    \"\"\"Return the text in all uppercase letters.\"\"\"\n",
    "    return text.upper()"
   ]
  },
  {
   "cell_type": "code",
   "execution_count": 9,
   "id": "2a0d05a3-c7f4-4fad-a302-6785b3b4e011",
   "metadata": {},
   "outputs": [
    {
     "name": "stdout",
     "output_type": "stream",
     "text": [
      "Writing package_exercises/helpers/math.py\n"
     ]
    }
   ],
   "source": [
    "%%writefile package_exercises/helpers/math.py\n",
    "# 1 (continuation)\n",
    "def area(length, width):\n",
    "    \"\"\"Return the area of a rectangle (length × width).\"\"\"\n",
    "    return length * width"
   ]
  },
  {
   "cell_type": "code",
   "execution_count": 10,
   "id": "f0044751-5c80-4141-b10b-7bac3a810ef0",
   "metadata": {},
   "outputs": [
    {
     "name": "stdout",
     "output_type": "stream",
     "text": [
      "Writing package_exercises/main.py\n"
     ]
    }
   ],
   "source": [
    "%%writefile package_exercises/main.py\n",
    "# 2\n",
    "from helpers.string import shout\n",
    "from helpers.math import area\n",
    "\n",
    "length = 5\n",
    "width = 8\n",
    "result = area(length, width)\n",
    "\n",
    "message = f\"The area of a {length}-by-{width} rectangle is {result}\"\n",
    "print(shout(message))"
   ]
  },
  {
   "cell_type": "code",
   "execution_count": 11,
   "id": "1d639fd6-7ff9-455c-8a64-2c6c312cab52",
   "metadata": {},
   "outputs": [
    {
     "name": "stdout",
     "output_type": "stream",
     "text": [
      "THE AREA OF A 5-BY-8 RECTANGLE IS 40\n"
     ]
    }
   ],
   "source": [
    "!python package_exercises/main.py"
   ]
  }
 ],
 "metadata": {
  "kernelspec": {
   "display_name": "Python [conda env:base] *",
   "language": "python",
   "name": "conda-base-py"
  },
  "language_info": {
   "codemirror_mode": {
    "name": "ipython",
    "version": 3
   },
   "file_extension": ".py",
   "mimetype": "text/x-python",
   "name": "python",
   "nbconvert_exporter": "python",
   "pygments_lexer": "ipython3",
   "version": "3.13.5"
  }
 },
 "nbformat": 4,
 "nbformat_minor": 5
}
